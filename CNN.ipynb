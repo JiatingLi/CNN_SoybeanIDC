{
  "nbformat": 4,
  "nbformat_minor": 0,
  "metadata": {
    "colab": {
      "name": "CNN.ipynb",
      "provenance": [],
      "collapsed_sections": [],
      "toc_visible": true,
      "mount_file_id": "1fxaih9KYbL-hmib5GMumcEMn1EngLXP9",
      "authorship_tag": "ABX9TyPwRZlPTVdvNTobG+JXPuiz",
      "include_colab_link": true
    },
    "kernelspec": {
      "name": "python3",
      "display_name": "Python 3"
    }
  },
  "cells": [
    {
      "cell_type": "markdown",
      "metadata": {
        "id": "view-in-github",
        "colab_type": "text"
      },
      "source": [
        "<a href=\"https://colab.research.google.com/github/JiatingLi/CNN_SoybeanIDC/blob/main/CNN.ipynb\" target=\"_parent\"><img src=\"https://colab.research.google.com/assets/colab-badge.svg\" alt=\"Open In Colab\"/></a>"
      ]
    },
    {
      "cell_type": "code",
      "metadata": {
        "id": "KRJAbHftghAY"
      },
      "source": [
        "# for data reading\r\n",
        "import pandas as pd\r\n",
        "import numpy as np\r\n",
        "from keras_preprocessing.image import ImageDataGenerator\r\n",
        "\r\n",
        "# for model architecture\r\n",
        "from keras.models import Model\r\n",
        "from keras.layers import Input, Dense, Flatten, Activation, Conv2D, MaxPooling2D\r\n",
        "from keras.layers.normalization import BatchNormalization\r\n",
        "from keras.optimizers import Adam\r\n",
        "from keras.initializers import TruncatedNormal\r\n",
        "\r\n",
        "# for plotting\r\n",
        "from matplotlib import pyplot as plt\r\n",
        "\r\n",
        "# for evaluation\r\n",
        "import math\r\n",
        "from scipy import stats\r\n",
        "from sklearn.metrics import mean_squared_error\r\n",
        "\r\n",
        "# for saving files\r\n",
        "from pandas import DataFrame"
      ],
      "execution_count": 1,
      "outputs": []
    },
    {
      "cell_type": "code",
      "metadata": {
        "id": "mF5RwGSqgiy_",
        "colab": {
          "base_uri": "https://localhost:8080/"
        },
        "outputId": "b534fddd-696c-4b79-a203-034d3951b388"
      },
      "source": [
        "#### DATA PREPARATION\r\n",
        "training_dir = '/content/drive/MyDrive/SoybeanIDC_CNN_Data/Valley711_RIL/' ##NEED TO refine directory for your own case\r\n",
        "testing_dir = '/content/drive/MyDrive/SoybeanIDC_CNN_Data/Valley711_NAM/'\r\n",
        "\r\n",
        "training_label_dir ='/content/drive/MyDrive/SoybeanIDC_CNN_Data/Valley711_RIL.csv'\r\n",
        "testing_label_dir = '/content/drive/MyDrive/SoybeanIDC_CNN_Data/Valley711_NAM.csv'\r\n",
        "training_label = pd.read_csv(training_label_dir, delimiter=',', header=0, names=['filename', 'IDC'])\r\n",
        "testing_label = pd.read_csv(testing_label_dir, delimiter=',', header=0, names=['filename', 'IDC'])\r\n",
        "\r\n",
        "testing_y = np.array(testing_label['IDC']) #true IDC scores for testing dataset\r\n",
        "\r\n",
        "img_width, img_height = 224, 448 \r\n",
        "\r\n",
        "## Read data using flow_from_dataframe()\r\n",
        "datagen=ImageDataGenerator(rescale=1./255.,validation_split=0.2)\r\n",
        "test_datagen=ImageDataGenerator(rescale=1./255.)\r\n",
        "\r\n",
        "train_generator=datagen.flow_from_dataframe(\r\n",
        "    dataframe=training_label,\r\n",
        "    directory=training_dir,\r\n",
        "    x_col='filename', \r\n",
        "    y_col='IDC',\r\n",
        "    subset=\"training\",\r\n",
        "    batch_size=32,\r\n",
        "    seed=22,\r\n",
        "    shuffle=True,\r\n",
        "    class_mode='raw',\r\n",
        "    target_size=(img_height,img_width))\r\n",
        "\r\n",
        "valid_generator=datagen.flow_from_dataframe(\r\n",
        "    dataframe=training_label,\r\n",
        "    directory=training_dir,\r\n",
        "    x_col='filename', \r\n",
        "    y_col='IDC',\r\n",
        "    subset=\"validation\",\r\n",
        "    batch_size=32,\r\n",
        "    seed=22,\r\n",
        "    shuffle=True,\r\n",
        "    class_mode=\"raw\",\r\n",
        "    target_size=(img_height,img_width))\r\n",
        "\r\n",
        "test_generator=test_datagen.flow_from_dataframe(\r\n",
        "    dataframe=testing_label,\r\n",
        "    directory=testing_dir,\r\n",
        "    x_col=\"filename\",\r\n",
        "    y_col=None,\r\n",
        "    batch_size=1,\r\n",
        "    seed=22,\r\n",
        "    shuffle=False,\r\n",
        "    class_mode=None,\r\n",
        "    target_size=(img_height,img_width))"
      ],
      "execution_count": 3,
      "outputs": [
        {
          "output_type": "stream",
          "text": [
            "Found 523 validated image filenames.\n",
            "Found 130 validated image filenames.\n",
            "Found 164 validated image filenames.\n"
          ],
          "name": "stdout"
        }
      ]
    },
    {
      "cell_type": "code",
      "metadata": {
        "id": "Dn1SV9CLjnuq"
      },
      "source": [
        "#### Define Model\r\n",
        "inChannel = 3\r\n",
        "input_img = Input(shape = (img_height, img_width, inChannel))\r\n",
        "\r\n",
        "def regres(input_img):\r\n",
        "    x = Conv2D(filters=16, kernel_size=3, activation='relu', padding='same')(input_img) \r\n",
        "    x = Conv2D(filters=16, kernel_size=3, activation='relu', padding='same')(x)\r\n",
        "    x = MaxPooling2D(pool_size=(2, 2))(x) \r\n",
        "    \r\n",
        "    x = Conv2D(filters=32, kernel_size=3, activation='relu', padding='same')(x) \r\n",
        "    x = Conv2D(filters=32, kernel_size=3, activation='relu', padding='same')(x)\r\n",
        "     x = MaxPooling2D(pool_size=(2, 2))(x) \r\n",
        "     \r\n",
        "    x = Flatten()(x)\r\n",
        "    x = Dense(units=100, activation='relu')(x)\r\n",
        "\r\n",
        "    #The output layer. Use 'softmax' or 'sigmoid' activation if your task is classification problem\r\n",
        "    pred = Dense(units=1, activation='linear')(x) \r\n",
        "    return pred \r\n",
        "\r\n",
        "full_model = Model(input_img,regres(input_img))\r\n",
        "full_model.compile(loss='mean_squared_error', metrics=['mean_squared_error'], optimizer=Adam(lr=0.0001))"
      ],
      "execution_count": 8,
      "outputs": []
    },
    {
      "cell_type": "code",
      "metadata": {
        "id": "MD4cotnFjz21",
        "colab": {
          "base_uri": "https://localhost:8080/",
          "height": 1000
        },
        "outputId": "fe890aa8-0bc3-42d3-e761-4ff96dec7c86"
      },
      "source": [
        "#### TRAIN model\r\n",
        "STEP_SIZE_TRAIN=train_generator.n//train_generator.batch_size\r\n",
        "STEP_SIZE_VALID=valid_generator.n//valid_generator.batch_size\r\n",
        "\r\n",
        "regressor = full_model.fit_generator(generator=train_generator,\r\n",
        "                                     steps_per_epoch=STEP_SIZE_TRAIN,\r\n",
        "                                     validation_data=valid_generator,\r\n",
        "                                     validation_steps=STEP_SIZE_VALID,\r\n",
        "                                     epochs=50)\r\n",
        "\r\n",
        "## plot training process\r\n",
        "loss = regressor.history['loss']\r\n",
        "val_loss = regressor.history['val_loss']\r\n",
        "epochs = range(len(loss))\r\n",
        "plt.figure()\r\n",
        "plt.plot(epochs, loss, 'b', label='Training loss')\r\n",
        "plt.plot(epochs, val_loss, 'r', label='Validation loss')\r\n",
        "plt.title('Training and validation loss')\r\n",
        "plt.legend()"
      ],
      "execution_count": 9,
      "outputs": [
        {
          "output_type": "stream",
          "text": [
            "/usr/local/lib/python3.6/dist-packages/tensorflow/python/keras/engine/training.py:1844: UserWarning: `Model.fit_generator` is deprecated and will be removed in a future version. Please use `Model.fit`, which supports generators.\n",
            "  warnings.warn('`Model.fit_generator` is deprecated and '\n"
          ],
          "name": "stderr"
        },
        {
          "output_type": "stream",
          "text": [
            "Epoch 1/50\n",
            "16/16 [==============================] - 95s 6s/step - loss: 5.8788 - mean_squared_error: 5.8788 - val_loss: 1.3406 - val_mean_squared_error: 1.3406\n",
            "Epoch 2/50\n",
            "16/16 [==============================] - 95s 6s/step - loss: 1.3165 - mean_squared_error: 1.3165 - val_loss: 1.8494 - val_mean_squared_error: 1.8494\n",
            "Epoch 3/50\n",
            "16/16 [==============================] - 95s 6s/step - loss: 1.0477 - mean_squared_error: 1.0477 - val_loss: 1.7046 - val_mean_squared_error: 1.7046\n",
            "Epoch 4/50\n",
            "16/16 [==============================] - 95s 6s/step - loss: 1.0991 - mean_squared_error: 1.0991 - val_loss: 1.8076 - val_mean_squared_error: 1.8076\n",
            "Epoch 5/50\n",
            "16/16 [==============================] - 94s 6s/step - loss: 1.2079 - mean_squared_error: 1.2079 - val_loss: 1.3517 - val_mean_squared_error: 1.3517\n",
            "Epoch 6/50\n",
            "16/16 [==============================] - 94s 6s/step - loss: 0.9331 - mean_squared_error: 0.9331 - val_loss: 1.3370 - val_mean_squared_error: 1.3370\n",
            "Epoch 7/50\n",
            "16/16 [==============================] - 95s 6s/step - loss: 0.7816 - mean_squared_error: 0.7816 - val_loss: 1.1289 - val_mean_squared_error: 1.1289\n",
            "Epoch 8/50\n",
            "16/16 [==============================] - 94s 6s/step - loss: 0.8707 - mean_squared_error: 0.8707 - val_loss: 1.6573 - val_mean_squared_error: 1.6573\n",
            "Epoch 9/50\n",
            "16/16 [==============================] - 94s 6s/step - loss: 0.6644 - mean_squared_error: 0.6644 - val_loss: 1.4440 - val_mean_squared_error: 1.4440\n",
            "Epoch 10/50\n",
            "16/16 [==============================] - 95s 6s/step - loss: 0.6090 - mean_squared_error: 0.6090 - val_loss: 0.8974 - val_mean_squared_error: 0.8974\n",
            "Epoch 11/50\n",
            "16/16 [==============================] - 94s 6s/step - loss: 0.5575 - mean_squared_error: 0.5575 - val_loss: 0.9173 - val_mean_squared_error: 0.9173\n",
            "Epoch 12/50\n",
            "16/16 [==============================] - 94s 6s/step - loss: 0.4043 - mean_squared_error: 0.4043 - val_loss: 1.0196 - val_mean_squared_error: 1.0196\n",
            "Epoch 13/50\n",
            "16/16 [==============================] - 95s 6s/step - loss: 0.3347 - mean_squared_error: 0.3347 - val_loss: 0.7282 - val_mean_squared_error: 0.7282\n",
            "Epoch 14/50\n",
            "16/16 [==============================] - 94s 6s/step - loss: 0.3889 - mean_squared_error: 0.3889 - val_loss: 0.8159 - val_mean_squared_error: 0.8159\n",
            "Epoch 15/50\n",
            "16/16 [==============================] - 95s 6s/step - loss: 0.2049 - mean_squared_error: 0.2049 - val_loss: 0.7627 - val_mean_squared_error: 0.7627\n",
            "Epoch 16/50\n",
            "16/16 [==============================] - 95s 6s/step - loss: 0.1723 - mean_squared_error: 0.1723 - val_loss: 0.6434 - val_mean_squared_error: 0.6434\n",
            "Epoch 17/50\n",
            "16/16 [==============================] - 95s 6s/step - loss: 0.1190 - mean_squared_error: 0.1190 - val_loss: 0.7081 - val_mean_squared_error: 0.7081\n",
            "Epoch 18/50\n",
            "16/16 [==============================] - 94s 6s/step - loss: 0.1145 - mean_squared_error: 0.1145 - val_loss: 0.5449 - val_mean_squared_error: 0.5449\n",
            "Epoch 19/50\n",
            "16/16 [==============================] - 95s 6s/step - loss: 0.1774 - mean_squared_error: 0.1774 - val_loss: 0.5913 - val_mean_squared_error: 0.5913\n",
            "Epoch 20/50\n",
            "16/16 [==============================] - 95s 6s/step - loss: 0.1453 - mean_squared_error: 0.1453 - val_loss: 0.7318 - val_mean_squared_error: 0.7318\n",
            "Epoch 21/50\n",
            "16/16 [==============================] - 95s 6s/step - loss: 0.0740 - mean_squared_error: 0.0740 - val_loss: 0.5625 - val_mean_squared_error: 0.5625\n",
            "Epoch 22/50\n",
            "16/16 [==============================] - 95s 6s/step - loss: 0.0656 - mean_squared_error: 0.0656 - val_loss: 0.6479 - val_mean_squared_error: 0.6479\n",
            "Epoch 23/50\n",
            "16/16 [==============================] - 95s 6s/step - loss: 0.0549 - mean_squared_error: 0.0549 - val_loss: 0.6347 - val_mean_squared_error: 0.6347\n",
            "Epoch 24/50\n",
            "16/16 [==============================] - 95s 6s/step - loss: 0.0383 - mean_squared_error: 0.0383 - val_loss: 0.5247 - val_mean_squared_error: 0.5247\n",
            "Epoch 25/50\n",
            "16/16 [==============================] - 95s 6s/step - loss: 0.0303 - mean_squared_error: 0.0303 - val_loss: 0.5751 - val_mean_squared_error: 0.5751\n",
            "Epoch 26/50\n",
            "16/16 [==============================] - 95s 6s/step - loss: 0.0289 - mean_squared_error: 0.0289 - val_loss: 0.5768 - val_mean_squared_error: 0.5768\n",
            "Epoch 27/50\n",
            "16/16 [==============================] - 94s 6s/step - loss: 0.0268 - mean_squared_error: 0.0268 - val_loss: 0.5718 - val_mean_squared_error: 0.5718\n",
            "Epoch 28/50\n",
            "16/16 [==============================] - 94s 6s/step - loss: 0.0175 - mean_squared_error: 0.0175 - val_loss: 0.6026 - val_mean_squared_error: 0.6026\n",
            "Epoch 29/50\n",
            "16/16 [==============================] - 95s 6s/step - loss: 0.0152 - mean_squared_error: 0.0152 - val_loss: 0.6350 - val_mean_squared_error: 0.6350\n",
            "Epoch 30/50\n",
            "16/16 [==============================] - 95s 6s/step - loss: 0.0117 - mean_squared_error: 0.0117 - val_loss: 0.6057 - val_mean_squared_error: 0.6057\n",
            "Epoch 31/50\n",
            "16/16 [==============================] - 95s 6s/step - loss: 0.0091 - mean_squared_error: 0.0091 - val_loss: 0.6102 - val_mean_squared_error: 0.6102\n",
            "Epoch 32/50\n",
            "16/16 [==============================] - 95s 6s/step - loss: 0.0089 - mean_squared_error: 0.0089 - val_loss: 0.5891 - val_mean_squared_error: 0.5891\n",
            "Epoch 33/50\n",
            "16/16 [==============================] - 95s 6s/step - loss: 0.0061 - mean_squared_error: 0.0061 - val_loss: 0.6265 - val_mean_squared_error: 0.6265\n",
            "Epoch 34/50\n",
            "16/16 [==============================] - 95s 6s/step - loss: 0.0058 - mean_squared_error: 0.0058 - val_loss: 0.5702 - val_mean_squared_error: 0.5702\n",
            "Epoch 35/50\n",
            "16/16 [==============================] - 95s 6s/step - loss: 0.0045 - mean_squared_error: 0.0045 - val_loss: 0.5886 - val_mean_squared_error: 0.5886\n",
            "Epoch 36/50\n",
            "16/16 [==============================] - 95s 6s/step - loss: 0.0048 - mean_squared_error: 0.0048 - val_loss: 0.5972 - val_mean_squared_error: 0.5972\n",
            "Epoch 37/50\n",
            "16/16 [==============================] - 95s 6s/step - loss: 0.0043 - mean_squared_error: 0.0043 - val_loss: 0.6059 - val_mean_squared_error: 0.6059\n",
            "Epoch 38/50\n",
            "16/16 [==============================] - 95s 6s/step - loss: 0.0037 - mean_squared_error: 0.0037 - val_loss: 0.5903 - val_mean_squared_error: 0.5903\n",
            "Epoch 39/50\n",
            "16/16 [==============================] - 95s 6s/step - loss: 0.0048 - mean_squared_error: 0.0048 - val_loss: 0.6117 - val_mean_squared_error: 0.6117\n",
            "Epoch 40/50\n",
            "16/16 [==============================] - 96s 6s/step - loss: 0.0021 - mean_squared_error: 0.0021 - val_loss: 0.5993 - val_mean_squared_error: 0.5993\n",
            "Epoch 41/50\n",
            "16/16 [==============================] - 95s 6s/step - loss: 0.0027 - mean_squared_error: 0.0027 - val_loss: 0.5840 - val_mean_squared_error: 0.5840\n",
            "Epoch 42/50\n",
            "16/16 [==============================] - 95s 6s/step - loss: 0.0018 - mean_squared_error: 0.0018 - val_loss: 0.6195 - val_mean_squared_error: 0.6195\n",
            "Epoch 43/50\n",
            "16/16 [==============================] - 95s 6s/step - loss: 0.0012 - mean_squared_error: 0.0012 - val_loss: 0.6163 - val_mean_squared_error: 0.6163\n",
            "Epoch 44/50\n",
            "16/16 [==============================] - 95s 6s/step - loss: 0.0021 - mean_squared_error: 0.0021 - val_loss: 0.6167 - val_mean_squared_error: 0.6167\n",
            "Epoch 45/50\n",
            "16/16 [==============================] - 95s 6s/step - loss: 0.0013 - mean_squared_error: 0.0013 - val_loss: 0.5999 - val_mean_squared_error: 0.5999\n",
            "Epoch 46/50\n",
            "16/16 [==============================] - 95s 6s/step - loss: 6.2550e-04 - mean_squared_error: 6.2550e-04 - val_loss: 0.6008 - val_mean_squared_error: 0.6008\n",
            "Epoch 47/50\n",
            "16/16 [==============================] - 95s 6s/step - loss: 3.7072e-04 - mean_squared_error: 3.7072e-04 - val_loss: 0.6129 - val_mean_squared_error: 0.6129\n",
            "Epoch 48/50\n",
            "16/16 [==============================] - 95s 6s/step - loss: 3.9711e-04 - mean_squared_error: 3.9711e-04 - val_loss: 0.5821 - val_mean_squared_error: 0.5821\n",
            "Epoch 49/50\n",
            "16/16 [==============================] - 95s 6s/step - loss: 3.0480e-04 - mean_squared_error: 3.0480e-04 - val_loss: 0.6116 - val_mean_squared_error: 0.6116\n",
            "Epoch 50/50\n",
            "16/16 [==============================] - 98s 6s/step - loss: 2.6322e-04 - mean_squared_error: 2.6322e-04 - val_loss: 0.6026 - val_mean_squared_error: 0.6026\n"
          ],
          "name": "stdout"
        },
        {
          "output_type": "execute_result",
          "data": {
            "text/plain": [
              "<matplotlib.legend.Legend at 0x7fc5a0f3b470>"
            ]
          },
          "metadata": {
            "tags": []
          },
          "execution_count": 9
        },
        {
          "output_type": "display_data",
          "data": {
            "image/png": "[encoded data removed]",
            "text/plain": [
              "<Figure size 432x288 with 1 Axes>"
            ]
          },
          "metadata": {
            "tags": [],
            "needs_background": "light"
          }
        }
      ]
    },
    {
      "cell_type": "code",
      "metadata": {
        "id": "aT7hYsgnj6ae",
        "colab": {
          "base_uri": "https://localhost:8080/",
          "height": 369
        },
        "outputId": "a8d8c6e6-b40d-41c1-bf76-42143fe208c6"
      },
      "source": [
        "#### PREDICTION\r\n",
        "STEP_SIZE_TEST=test_generator.n//test_generator.batch_size\r\n",
        "test_generator.reset()\r\n",
        "\r\n",
        "predict=full_model.predict_generator(test_generator,steps=STEP_SIZE_TEST,verbose=1)\r\n",
        "\r\n",
        "# plot results\r\n",
        "pred = predict[:,0]\r\n",
        "true = testing_y\r\n",
        "plt.plot(pred,true, 'g^')\r\n",
        "\r\n",
        "# r2 and rmse \r\n",
        "slope, intercept, r_value, p_value, std_err = stats.linregress(true, pred) #x,y\r\n",
        "mse = mean_squared_error(true, pred)\r\n",
        "rmse = math.sqrt(mse)\r\n",
        "print(\"R2: %f\" % r_value**2)\r\n",
        "print(\"RMSE: %f\" % rmse)\r\n",
        "\r\n",
        "# ## save\r\n",
        "# df = DataFrame([true,pred])\r\n",
        "# df = df.T #transpose\r\n",
        "# df.to_excel('PATH TO EXPECTED DIRECTORY.xlsx', index=False)"
      ],
      "execution_count": 10,
      "outputs": [
        {
          "output_type": "stream",
          "text": [
            "\r  1/164 [..............................] - ETA: 22s"
          ],
          "name": "stdout"
        },
        {
          "output_type": "stream",
          "text": [
            "/usr/local/lib/python3.6/dist-packages/tensorflow/python/keras/engine/training.py:1905: UserWarning: `Model.predict_generator` is deprecated and will be removed in a future version. Please use `Model.predict`, which supports generators.\n",
            "  warnings.warn('`Model.predict_generator` is deprecated and '\n"
          ],
          "name": "stderr"
        },
        {
          "output_type": "stream",
          "text": [
            "164/164 [==============================] - 11s 66ms/step\n",
            "R2: 0.645869\n",
            "RMSE: 1.429816\n"
          ],
          "name": "stdout"
        },
        {
          "output_type": "display_data",
          "data": {
            "image/png": "[encoded data removed]",
            "text/plain": [
              "<Figure size 432x288 with 1 Axes>"
            ]
          },
          "metadata": {
            "tags": [],
            "needs_background": "light"
          }
        }
      ]
    }
  ]
}