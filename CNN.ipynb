{
  "nbformat": 4,
  "nbformat_minor": 0,
  "metadata": {
    "colab": {
      "name": "CNN.ipynb",
      "provenance": [],
      "collapsed_sections": [],
      "toc_visible": true,
      "mount_file_id": "1fxaih9KYbL-hmib5GMumcEMn1EngLXP9",
      "authorship_tag": "ABX9TyMul1R7AiDrsrESR8KbM5pc",
      "include_colab_link": true
    },
    "kernelspec": {
      "name": "python3",
      "display_name": "Python 3"
    },
    "accelerator": "GPU"
  },
  "cells": [
    {
      "cell_type": "markdown",
      "metadata": {
        "id": "view-in-github",
        "colab_type": "text"
      },
      "source": [
        "<a href=\"https://colab.research.google.com/github/JiatingLi/CNN_SoybeanIDC/blob/main/CNN.ipynb\" target=\"_parent\"><img src=\"https://colab.research.google.com/assets/colab-badge.svg\" alt=\"Open In Colab\"/></a>"
      ]
    },
    {
      "cell_type": "code",
      "metadata": {
        "id": "KRJAbHftghAY"
      },
      "source": [
        "# for data reading\r\n",
        "import pandas as pd\r\n",
        "import numpy as np\r\n",
        "from keras_preprocessing.image import ImageDataGenerator\r\n",
        "\r\n",
        "# for model architecture\r\n",
        "from keras.models import Model\r\n",
        "from keras.layers import Input, Dense, Flatten, Activation, Conv2D, MaxPooling2D\r\n",
        "from keras.optimizers import Adam\r\n",
        "\r\n",
        "# for plotting\r\n",
        "from matplotlib import pyplot as plt\r\n",
        "\r\n",
        "# for evaluation\r\n",
        "import math\r\n",
        "from scipy import stats\r\n",
        "from sklearn.metrics import mean_squared_error\r\n",
        "\r\n",
        "# for saving files\r\n",
        "from pandas import DataFrame"
      ],
      "execution_count": 2,
      "outputs": []
    },
    {
      "cell_type": "code",
      "metadata": {
        "id": "mF5RwGSqgiy_",
        "colab": {
          "base_uri": "https://localhost:8080/"
        },
        "outputId": "f90524c9-cd30-4732-ae9b-bb8a6efedeaf"
      },
      "source": [
        "#### DATA PREPARATION\r\n",
        "training_dir = '/content/drive/MyDrive/SoybeanIDC_CNN_Data/Valley711_RIL/' ##NEED TO refine directory for your own case\r\n",
        "testing_dir = '/content/drive/MyDrive/SoybeanIDC_CNN_Data/Valley711_NAM/'\r\n",
        "\r\n",
        "training_label_dir ='/content/drive/MyDrive/SoybeanIDC_CNN_Data/Valley711_RIL.csv'\r\n",
        "testing_label_dir = '/content/drive/MyDrive/SoybeanIDC_CNN_Data/Valley711_NAM.csv'\r\n",
        "training_label = pd.read_csv(training_label_dir, delimiter=',', header=0, names=['filename', 'IDC'])\r\n",
        "testing_label = pd.read_csv(testing_label_dir, delimiter=',', header=0, names=['filename', 'IDC'])\r\n",
        "\r\n",
        "testing_y = np.array(testing_label['IDC']) #true IDC scores for testing dataset\r\n",
        "\r\n",
        "img_width, img_height = 224, 448 \r\n",
        "\r\n",
        "## Read data using flow_from_dataframe()\r\n",
        "datagen=ImageDataGenerator(rescale=1./255.,validation_split=0.2)\r\n",
        "test_datagen=ImageDataGenerator(rescale=1./255.)\r\n",
        "\r\n",
        "train_generator=datagen.flow_from_dataframe(\r\n",
        "    dataframe=training_label,\r\n",
        "    directory=training_dir,\r\n",
        "    x_col='filename', \r\n",
        "    y_col='IDC',\r\n",
        "    subset=\"training\",\r\n",
        "    batch_size=32,\r\n",
        "    seed=22,\r\n",
        "    shuffle=True,\r\n",
        "    class_mode='raw',\r\n",
        "    target_size=(img_height,img_width))\r\n",
        "\r\n",
        "valid_generator=datagen.flow_from_dataframe(\r\n",
        "    dataframe=training_label,\r\n",
        "    directory=training_dir,\r\n",
        "    x_col='filename', \r\n",
        "    y_col='IDC',\r\n",
        "    subset=\"validation\",\r\n",
        "    batch_size=32,\r\n",
        "    seed=22,\r\n",
        "    shuffle=True,\r\n",
        "    class_mode=\"raw\",\r\n",
        "    target_size=(img_height,img_width))\r\n",
        "\r\n",
        "test_generator=test_datagen.flow_from_dataframe(\r\n",
        "    dataframe=testing_label,\r\n",
        "    directory=testing_dir,\r\n",
        "    x_col=\"filename\",\r\n",
        "    y_col=None,\r\n",
        "    batch_size=1,\r\n",
        "    seed=22,\r\n",
        "    shuffle=False,\r\n",
        "    class_mode=None,\r\n",
        "    target_size=(img_height,img_width))"
      ],
      "execution_count": 3,
      "outputs": [
        {
          "output_type": "stream",
          "text": [
            "Found 523 validated image filenames.\n",
            "Found 130 validated image filenames.\n",
            "Found 164 validated image filenames.\n"
          ],
          "name": "stdout"
        }
      ]
    },
    {
      "cell_type": "code",
      "metadata": {
        "id": "Dn1SV9CLjnuq",
        "colab": {
          "base_uri": "https://localhost:8080/"
        },
        "outputId": "b5afdcba-c7e8-42c0-9353-917e7d03ce67"
      },
      "source": [
        "#### Define Model\r\n",
        "inChannel = 3\r\n",
        "input_img = Input(shape = (img_height, img_width, inChannel))\r\n",
        "\r\n",
        "def regres(input_img):\r\n",
        "    x = Conv2D(filters=16, kernel_size=3, activation='relu', padding='same')(input_img) \r\n",
        "    x = MaxPooling2D(pool_size=(2, 2))(x) \r\n",
        "    \r\n",
        "    x = Conv2D(filters=32, kernel_size=3, activation='relu', padding='same')(x) \r\n",
        "    x = MaxPooling2D(pool_size=(2, 2))(x) \r\n",
        "     \r\n",
        "    x = Flatten()(x)\r\n",
        "    x = Dense(units=100, activation='relu')(x)\r\n",
        "\r\n",
        "    #The output layer. Use 'softmax' or 'sigmoid' activation if your task is classification problem\r\n",
        "    pred = Dense(units=1, activation='linear')(x) \r\n",
        "    return pred \r\n",
        "\r\n",
        "full_model = Model(input_img,regres(input_img))\r\n",
        "full_model.summary()\r\n",
        "full_model.compile(loss='mean_squared_error', metrics=['mean_squared_error'], optimizer=Adam(lr=0.0001))"
      ],
      "execution_count": 11,
      "outputs": [
        {
          "output_type": "stream",
          "text": [
            "Model: \"model_3\"\n",
            "_________________________________________________________________\n",
            "Layer (type)                 Output Shape              Param #   \n",
            "=================================================================\n",
            "input_4 (InputLayer)         [(None, 448, 224, 3)]     0         \n",
            "_________________________________________________________________\n",
            "conv2d_12 (Conv2D)           (None, 448, 224, 16)      448       \n",
            "_________________________________________________________________\n",
            "max_pooling2d_6 (MaxPooling2 (None, 224, 112, 16)      0         \n",
            "_________________________________________________________________\n",
            "conv2d_13 (Conv2D)           (None, 224, 112, 32)      4640      \n",
            "_________________________________________________________________\n",
            "max_pooling2d_7 (MaxPooling2 (None, 112, 56, 32)       0         \n",
            "_________________________________________________________________\n",
            "flatten_3 (Flatten)          (None, 200704)            0         \n",
            "_________________________________________________________________\n",
            "dense_6 (Dense)              (None, 100)               20070500  \n",
            "_________________________________________________________________\n",
            "dense_7 (Dense)              (None, 1)                 101       \n",
            "=================================================================\n",
            "Total params: 20,075,689\n",
            "Trainable params: 20,075,689\n",
            "Non-trainable params: 0\n",
            "_________________________________________________________________\n"
          ],
          "name": "stdout"
        }
      ]
    },
    {
      "cell_type": "code",
      "metadata": {
        "id": "MD4cotnFjz21",
        "colab": {
          "base_uri": "https://localhost:8080/",
          "height": 1000
        },
        "outputId": "6d48fe68-5bd3-401e-a954-4d38c6a529e8"
      },
      "source": [
        "#### TRAIN model\r\n",
        "STEP_SIZE_TRAIN=train_generator.n//train_generator.batch_size\r\n",
        "STEP_SIZE_VALID=valid_generator.n//valid_generator.batch_size\r\n",
        "\r\n",
        "regressor = full_model.fit_generator(generator=train_generator,\r\n",
        "                                     steps_per_epoch=STEP_SIZE_TRAIN,\r\n",
        "                                     validation_data=valid_generator,\r\n",
        "                                     validation_steps=STEP_SIZE_VALID,\r\n",
        "                                     epochs=100)\r\n",
        "\r\n",
        "## plot training process\r\n",
        "loss = regressor.history['loss']\r\n",
        "val_loss = regressor.history['val_loss']\r\n",
        "epochs = range(len(loss))\r\n",
        "plt.figure()\r\n",
        "plt.plot(epochs, loss, 'b', label='Training loss')\r\n",
        "plt.plot(epochs, val_loss, 'r', label='Validation loss')\r\n",
        "plt.title('Training and validation loss')\r\n",
        "plt.legend()"
      ],
      "execution_count": 12,
      "outputs": [
        {
          "output_type": "stream",
          "text": [
            "/usr/local/lib/python3.6/dist-packages/tensorflow/python/keras/engine/training.py:1844: UserWarning: `Model.fit_generator` is deprecated and will be removed in a future version. Please use `Model.fit`, which supports generators.\n",
            "  warnings.warn('`Model.fit_generator` is deprecated and '\n"
          ],
          "name": "stderr"
        },
        {
          "output_type": "stream",
          "text": [
            "Epoch 1/100\n",
            "16/16 [==============================] - 3s 191ms/step - loss: 7.3131 - mean_squared_error: 7.3131 - val_loss: 2.0899 - val_mean_squared_error: 2.0899\n",
            "Epoch 2/100\n",
            "16/16 [==============================] - 3s 177ms/step - loss: 1.2415 - mean_squared_error: 1.2415 - val_loss: 2.1149 - val_mean_squared_error: 2.1149\n",
            "Epoch 3/100\n",
            "16/16 [==============================] - 3s 176ms/step - loss: 1.2011 - mean_squared_error: 1.2011 - val_loss: 1.7325 - val_mean_squared_error: 1.7325\n",
            "Epoch 4/100\n",
            "16/16 [==============================] - 3s 179ms/step - loss: 1.0198 - mean_squared_error: 1.0198 - val_loss: 1.2879 - val_mean_squared_error: 1.2879\n",
            "Epoch 5/100\n",
            "16/16 [==============================] - 3s 176ms/step - loss: 0.7617 - mean_squared_error: 0.7617 - val_loss: 1.0705 - val_mean_squared_error: 1.0705\n",
            "Epoch 6/100\n",
            "16/16 [==============================] - 3s 177ms/step - loss: 0.6467 - mean_squared_error: 0.6467 - val_loss: 1.6239 - val_mean_squared_error: 1.6239\n",
            "Epoch 7/100\n",
            "16/16 [==============================] - 3s 188ms/step - loss: 0.6189 - mean_squared_error: 0.6189 - val_loss: 0.9473 - val_mean_squared_error: 0.9473\n",
            "Epoch 8/100\n",
            "16/16 [==============================] - 3s 188ms/step - loss: 0.4295 - mean_squared_error: 0.4295 - val_loss: 0.7707 - val_mean_squared_error: 0.7707\n",
            "Epoch 9/100\n",
            "16/16 [==============================] - 3s 186ms/step - loss: 0.3140 - mean_squared_error: 0.3140 - val_loss: 0.5885 - val_mean_squared_error: 0.5885\n",
            "Epoch 10/100\n",
            "16/16 [==============================] - 3s 178ms/step - loss: 0.2164 - mean_squared_error: 0.2164 - val_loss: 0.7597 - val_mean_squared_error: 0.7597\n",
            "Epoch 11/100\n",
            "16/16 [==============================] - 3s 174ms/step - loss: 0.1729 - mean_squared_error: 0.1729 - val_loss: 0.6523 - val_mean_squared_error: 0.6523\n",
            "Epoch 12/100\n",
            "16/16 [==============================] - 3s 176ms/step - loss: 0.1301 - mean_squared_error: 0.1301 - val_loss: 0.5631 - val_mean_squared_error: 0.5631\n",
            "Epoch 13/100\n",
            "16/16 [==============================] - 3s 177ms/step - loss: 0.1078 - mean_squared_error: 0.1078 - val_loss: 0.5918 - val_mean_squared_error: 0.5918\n",
            "Epoch 14/100\n",
            "16/16 [==============================] - 3s 175ms/step - loss: 0.0898 - mean_squared_error: 0.0898 - val_loss: 0.4994 - val_mean_squared_error: 0.4994\n",
            "Epoch 15/100\n",
            "16/16 [==============================] - 3s 176ms/step - loss: 0.0595 - mean_squared_error: 0.0595 - val_loss: 0.4546 - val_mean_squared_error: 0.4546\n",
            "Epoch 16/100\n",
            "16/16 [==============================] - 3s 177ms/step - loss: 0.0633 - mean_squared_error: 0.0633 - val_loss: 0.4739 - val_mean_squared_error: 0.4739\n",
            "Epoch 17/100\n",
            "16/16 [==============================] - 3s 174ms/step - loss: 0.0438 - mean_squared_error: 0.0438 - val_loss: 0.5348 - val_mean_squared_error: 0.5348\n",
            "Epoch 18/100\n",
            "16/16 [==============================] - 3s 178ms/step - loss: 0.0283 - mean_squared_error: 0.0283 - val_loss: 0.4862 - val_mean_squared_error: 0.4862\n",
            "Epoch 19/100\n",
            "16/16 [==============================] - 3s 174ms/step - loss: 0.0368 - mean_squared_error: 0.0368 - val_loss: 0.4592 - val_mean_squared_error: 0.4592\n",
            "Epoch 20/100\n",
            "16/16 [==============================] - 3s 192ms/step - loss: 0.0223 - mean_squared_error: 0.0223 - val_loss: 0.5059 - val_mean_squared_error: 0.5059\n",
            "Epoch 21/100\n",
            "16/16 [==============================] - 3s 182ms/step - loss: 0.0221 - mean_squared_error: 0.0221 - val_loss: 0.4515 - val_mean_squared_error: 0.4515\n",
            "Epoch 22/100\n",
            "16/16 [==============================] - 3s 172ms/step - loss: 0.0319 - mean_squared_error: 0.0319 - val_loss: 0.4676 - val_mean_squared_error: 0.4676\n",
            "Epoch 23/100\n",
            "16/16 [==============================] - 3s 173ms/step - loss: 0.0165 - mean_squared_error: 0.0165 - val_loss: 0.4594 - val_mean_squared_error: 0.4594\n",
            "Epoch 24/100\n",
            "16/16 [==============================] - 3s 174ms/step - loss: 0.0082 - mean_squared_error: 0.0082 - val_loss: 0.4758 - val_mean_squared_error: 0.4758\n",
            "Epoch 25/100\n",
            "16/16 [==============================] - 3s 176ms/step - loss: 0.0101 - mean_squared_error: 0.0101 - val_loss: 0.4826 - val_mean_squared_error: 0.4826\n",
            "Epoch 26/100\n",
            "16/16 [==============================] - 3s 176ms/step - loss: 0.0059 - mean_squared_error: 0.0059 - val_loss: 0.4777 - val_mean_squared_error: 0.4777\n",
            "Epoch 27/100\n",
            "16/16 [==============================] - 3s 178ms/step - loss: 0.0065 - mean_squared_error: 0.0065 - val_loss: 0.5166 - val_mean_squared_error: 0.5166\n",
            "Epoch 28/100\n",
            "16/16 [==============================] - 3s 175ms/step - loss: 0.0069 - mean_squared_error: 0.0069 - val_loss: 0.4857 - val_mean_squared_error: 0.4857\n",
            "Epoch 29/100\n",
            "16/16 [==============================] - 3s 174ms/step - loss: 0.0032 - mean_squared_error: 0.0032 - val_loss: 0.4834 - val_mean_squared_error: 0.4834\n",
            "Epoch 30/100\n",
            "16/16 [==============================] - 3s 178ms/step - loss: 0.0025 - mean_squared_error: 0.0025 - val_loss: 0.4924 - val_mean_squared_error: 0.4924\n",
            "Epoch 31/100\n",
            "16/16 [==============================] - 3s 175ms/step - loss: 0.0017 - mean_squared_error: 0.0017 - val_loss: 0.4825 - val_mean_squared_error: 0.4825\n",
            "Epoch 32/100\n",
            "16/16 [==============================] - 3s 176ms/step - loss: 0.0011 - mean_squared_error: 0.0011 - val_loss: 0.4908 - val_mean_squared_error: 0.4908\n",
            "Epoch 33/100\n",
            "16/16 [==============================] - 3s 174ms/step - loss: 0.0013 - mean_squared_error: 0.0013 - val_loss: 0.4829 - val_mean_squared_error: 0.4829\n",
            "Epoch 34/100\n",
            "16/16 [==============================] - 3s 171ms/step - loss: 0.0013 - mean_squared_error: 0.0013 - val_loss: 0.4661 - val_mean_squared_error: 0.4661\n",
            "Epoch 35/100\n",
            "16/16 [==============================] - 3s 177ms/step - loss: 0.0010 - mean_squared_error: 0.0010 - val_loss: 0.4806 - val_mean_squared_error: 0.4806\n",
            "Epoch 36/100\n",
            "16/16 [==============================] - 3s 174ms/step - loss: 8.2902e-04 - mean_squared_error: 8.2902e-04 - val_loss: 0.4632 - val_mean_squared_error: 0.4632\n",
            "Epoch 37/100\n",
            "16/16 [==============================] - 3s 175ms/step - loss: 0.0013 - mean_squared_error: 0.0013 - val_loss: 0.4879 - val_mean_squared_error: 0.4879\n",
            "Epoch 38/100\n",
            "16/16 [==============================] - 3s 175ms/step - loss: 7.1716e-04 - mean_squared_error: 7.1716e-04 - val_loss: 0.4892 - val_mean_squared_error: 0.4892\n",
            "Epoch 39/100\n",
            "16/16 [==============================] - 3s 176ms/step - loss: 6.9294e-04 - mean_squared_error: 6.9294e-04 - val_loss: 0.4793 - val_mean_squared_error: 0.4793\n",
            "Epoch 40/100\n",
            "16/16 [==============================] - 3s 175ms/step - loss: 0.0014 - mean_squared_error: 0.0014 - val_loss: 0.4528 - val_mean_squared_error: 0.4528\n",
            "Epoch 41/100\n",
            "16/16 [==============================] - 3s 176ms/step - loss: 2.3785e-04 - mean_squared_error: 2.3785e-04 - val_loss: 0.4729 - val_mean_squared_error: 0.4729\n",
            "Epoch 42/100\n",
            "16/16 [==============================] - 3s 176ms/step - loss: 2.2779e-04 - mean_squared_error: 2.2779e-04 - val_loss: 0.4740 - val_mean_squared_error: 0.4740\n",
            "Epoch 43/100\n",
            "16/16 [==============================] - 3s 175ms/step - loss: 1.8871e-04 - mean_squared_error: 1.8871e-04 - val_loss: 0.4882 - val_mean_squared_error: 0.4882\n",
            "Epoch 44/100\n",
            "16/16 [==============================] - 3s 174ms/step - loss: 1.9400e-04 - mean_squared_error: 1.9400e-04 - val_loss: 0.4527 - val_mean_squared_error: 0.4527\n",
            "Epoch 45/100\n",
            "16/16 [==============================] - 3s 174ms/step - loss: 1.2190e-04 - mean_squared_error: 1.2190e-04 - val_loss: 0.4891 - val_mean_squared_error: 0.4891\n",
            "Epoch 46/100\n",
            "16/16 [==============================] - 3s 175ms/step - loss: 1.3121e-04 - mean_squared_error: 1.3121e-04 - val_loss: 0.4848 - val_mean_squared_error: 0.4848\n",
            "Epoch 47/100\n",
            "16/16 [==============================] - 3s 174ms/step - loss: 1.7172e-04 - mean_squared_error: 1.7172e-04 - val_loss: 0.4577 - val_mean_squared_error: 0.4577\n",
            "Epoch 48/100\n",
            "16/16 [==============================] - 3s 174ms/step - loss: 1.1131e-04 - mean_squared_error: 1.1131e-04 - val_loss: 0.4912 - val_mean_squared_error: 0.4912\n",
            "Epoch 49/100\n",
            "16/16 [==============================] - 3s 175ms/step - loss: 2.6563e-04 - mean_squared_error: 2.6563e-04 - val_loss: 0.4681 - val_mean_squared_error: 0.4681\n",
            "Epoch 50/100\n",
            "16/16 [==============================] - 3s 175ms/step - loss: 1.4813e-04 - mean_squared_error: 1.4813e-04 - val_loss: 0.4872 - val_mean_squared_error: 0.4872\n",
            "Epoch 51/100\n",
            "16/16 [==============================] - 3s 175ms/step - loss: 2.4077e-04 - mean_squared_error: 2.4077e-04 - val_loss: 0.4771 - val_mean_squared_error: 0.4771\n",
            "Epoch 52/100\n",
            "16/16 [==============================] - 3s 181ms/step - loss: 0.0016 - mean_squared_error: 0.0016 - val_loss: 0.4642 - val_mean_squared_error: 0.4642\n",
            "Epoch 53/100\n",
            "16/16 [==============================] - 3s 175ms/step - loss: 0.0010 - mean_squared_error: 0.0010 - val_loss: 0.4816 - val_mean_squared_error: 0.4816\n",
            "Epoch 54/100\n",
            "16/16 [==============================] - 3s 178ms/step - loss: 0.0037 - mean_squared_error: 0.0037 - val_loss: 0.4999 - val_mean_squared_error: 0.4999\n",
            "Epoch 55/100\n",
            "16/16 [==============================] - 3s 183ms/step - loss: 0.0122 - mean_squared_error: 0.0122 - val_loss: 0.5025 - val_mean_squared_error: 0.5025\n",
            "Epoch 56/100\n",
            "16/16 [==============================] - 3s 176ms/step - loss: 0.0015 - mean_squared_error: 0.0015 - val_loss: 0.4688 - val_mean_squared_error: 0.4688\n",
            "Epoch 57/100\n",
            "16/16 [==============================] - 3s 180ms/step - loss: 0.0034 - mean_squared_error: 0.0034 - val_loss: 0.5040 - val_mean_squared_error: 0.5040\n",
            "Epoch 58/100\n",
            "16/16 [==============================] - 3s 179ms/step - loss: 0.0053 - mean_squared_error: 0.0053 - val_loss: 0.4695 - val_mean_squared_error: 0.4695\n",
            "Epoch 59/100\n",
            "16/16 [==============================] - 3s 175ms/step - loss: 0.0025 - mean_squared_error: 0.0025 - val_loss: 0.5007 - val_mean_squared_error: 0.5007\n",
            "Epoch 60/100\n",
            "16/16 [==============================] - 3s 178ms/step - loss: 0.0050 - mean_squared_error: 0.0050 - val_loss: 0.4746 - val_mean_squared_error: 0.4746\n",
            "Epoch 61/100\n",
            "16/16 [==============================] - 3s 179ms/step - loss: 0.0028 - mean_squared_error: 0.0028 - val_loss: 0.5123 - val_mean_squared_error: 0.5123\n",
            "Epoch 62/100\n",
            "16/16 [==============================] - 3s 175ms/step - loss: 0.0068 - mean_squared_error: 0.0068 - val_loss: 0.4748 - val_mean_squared_error: 0.4748\n",
            "Epoch 63/100\n",
            "16/16 [==============================] - 3s 186ms/step - loss: 0.0128 - mean_squared_error: 0.0128 - val_loss: 0.4618 - val_mean_squared_error: 0.4618\n",
            "Epoch 64/100\n",
            "16/16 [==============================] - 3s 176ms/step - loss: 0.0112 - mean_squared_error: 0.0112 - val_loss: 0.5026 - val_mean_squared_error: 0.5026\n",
            "Epoch 65/100\n",
            "16/16 [==============================] - 3s 183ms/step - loss: 0.0637 - mean_squared_error: 0.0637 - val_loss: 0.4355 - val_mean_squared_error: 0.4355\n",
            "Epoch 66/100\n",
            "16/16 [==============================] - 3s 182ms/step - loss: 0.0306 - mean_squared_error: 0.0306 - val_loss: 0.4710 - val_mean_squared_error: 0.4710\n",
            "Epoch 67/100\n",
            "16/16 [==============================] - 3s 175ms/step - loss: 0.0214 - mean_squared_error: 0.0214 - val_loss: 0.5379 - val_mean_squared_error: 0.5379\n",
            "Epoch 68/100\n",
            "16/16 [==============================] - 3s 175ms/step - loss: 0.0141 - mean_squared_error: 0.0141 - val_loss: 0.4847 - val_mean_squared_error: 0.4847\n",
            "Epoch 69/100\n",
            "16/16 [==============================] - 3s 174ms/step - loss: 0.0038 - mean_squared_error: 0.0038 - val_loss: 0.4612 - val_mean_squared_error: 0.4612\n",
            "Epoch 70/100\n",
            "16/16 [==============================] - 3s 179ms/step - loss: 0.0158 - mean_squared_error: 0.0158 - val_loss: 0.4776 - val_mean_squared_error: 0.4776\n",
            "Epoch 71/100\n",
            "16/16 [==============================] - 3s 176ms/step - loss: 0.0211 - mean_squared_error: 0.0211 - val_loss: 0.4688 - val_mean_squared_error: 0.4688\n",
            "Epoch 72/100\n",
            "16/16 [==============================] - 3s 178ms/step - loss: 0.0253 - mean_squared_error: 0.0253 - val_loss: 0.4887 - val_mean_squared_error: 0.4887\n",
            "Epoch 73/100\n",
            "16/16 [==============================] - 3s 177ms/step - loss: 0.0036 - mean_squared_error: 0.0036 - val_loss: 0.4760 - val_mean_squared_error: 0.4760\n",
            "Epoch 74/100\n",
            "16/16 [==============================] - 3s 175ms/step - loss: 0.0026 - mean_squared_error: 0.0026 - val_loss: 0.4879 - val_mean_squared_error: 0.4879\n",
            "Epoch 75/100\n",
            "16/16 [==============================] - 3s 177ms/step - loss: 0.0011 - mean_squared_error: 0.0011 - val_loss: 0.4765 - val_mean_squared_error: 0.4765\n",
            "Epoch 76/100\n",
            "16/16 [==============================] - 3s 173ms/step - loss: 0.0044 - mean_squared_error: 0.0044 - val_loss: 0.4581 - val_mean_squared_error: 0.4581\n",
            "Epoch 77/100\n",
            "16/16 [==============================] - 3s 179ms/step - loss: 0.0020 - mean_squared_error: 0.0020 - val_loss: 0.4901 - val_mean_squared_error: 0.4901\n",
            "Epoch 78/100\n",
            "16/16 [==============================] - 3s 178ms/step - loss: 0.0014 - mean_squared_error: 0.0014 - val_loss: 0.4918 - val_mean_squared_error: 0.4918\n",
            "Epoch 79/100\n",
            "16/16 [==============================] - 3s 171ms/step - loss: 0.0026 - mean_squared_error: 0.0026 - val_loss: 0.4983 - val_mean_squared_error: 0.4983\n",
            "Epoch 80/100\n",
            "16/16 [==============================] - 3s 175ms/step - loss: 0.0015 - mean_squared_error: 0.0015 - val_loss: 0.4779 - val_mean_squared_error: 0.4779\n",
            "Epoch 81/100\n",
            "16/16 [==============================] - 3s 171ms/step - loss: 0.0033 - mean_squared_error: 0.0033 - val_loss: 0.5066 - val_mean_squared_error: 0.5066\n",
            "Epoch 82/100\n",
            "16/16 [==============================] - 3s 175ms/step - loss: 0.0031 - mean_squared_error: 0.0031 - val_loss: 0.4784 - val_mean_squared_error: 0.4784\n",
            "Epoch 83/100\n",
            "16/16 [==============================] - 3s 173ms/step - loss: 0.0011 - mean_squared_error: 0.0011 - val_loss: 0.4916 - val_mean_squared_error: 0.4916\n",
            "Epoch 84/100\n",
            "16/16 [==============================] - 3s 171ms/step - loss: 0.0028 - mean_squared_error: 0.0028 - val_loss: 0.5009 - val_mean_squared_error: 0.5009\n",
            "Epoch 85/100\n",
            "16/16 [==============================] - 3s 175ms/step - loss: 9.9372e-04 - mean_squared_error: 9.9372e-04 - val_loss: 0.4854 - val_mean_squared_error: 0.4854\n",
            "Epoch 86/100\n",
            "16/16 [==============================] - 3s 178ms/step - loss: 0.0014 - mean_squared_error: 0.0014 - val_loss: 0.4764 - val_mean_squared_error: 0.4764\n",
            "Epoch 87/100\n",
            "16/16 [==============================] - 3s 178ms/step - loss: 0.0021 - mean_squared_error: 0.0021 - val_loss: 0.5252 - val_mean_squared_error: 0.5252\n",
            "Epoch 88/100\n",
            "16/16 [==============================] - 3s 172ms/step - loss: 0.0054 - mean_squared_error: 0.0054 - val_loss: 0.5006 - val_mean_squared_error: 0.5006\n",
            "Epoch 89/100\n",
            "16/16 [==============================] - 3s 179ms/step - loss: 0.0036 - mean_squared_error: 0.0036 - val_loss: 0.4865 - val_mean_squared_error: 0.4865\n",
            "Epoch 90/100\n",
            "16/16 [==============================] - 3s 178ms/step - loss: 0.0011 - mean_squared_error: 0.0011 - val_loss: 0.4688 - val_mean_squared_error: 0.4688\n",
            "Epoch 91/100\n",
            "16/16 [==============================] - 3s 178ms/step - loss: 0.0088 - mean_squared_error: 0.0088 - val_loss: 0.4394 - val_mean_squared_error: 0.4394\n",
            "Epoch 92/100\n",
            "16/16 [==============================] - 3s 179ms/step - loss: 0.0012 - mean_squared_error: 0.0012 - val_loss: 0.4727 - val_mean_squared_error: 0.4727\n",
            "Epoch 93/100\n",
            "16/16 [==============================] - 3s 175ms/step - loss: 0.0031 - mean_squared_error: 0.0031 - val_loss: 0.5085 - val_mean_squared_error: 0.5085\n",
            "Epoch 94/100\n",
            "16/16 [==============================] - 3s 178ms/step - loss: 0.0019 - mean_squared_error: 0.0019 - val_loss: 0.4843 - val_mean_squared_error: 0.4843\n",
            "Epoch 95/100\n",
            "16/16 [==============================] - 3s 177ms/step - loss: 0.0157 - mean_squared_error: 0.0157 - val_loss: 0.5083 - val_mean_squared_error: 0.5083\n",
            "Epoch 96/100\n",
            "16/16 [==============================] - 3s 178ms/step - loss: 0.0106 - mean_squared_error: 0.0106 - val_loss: 0.5509 - val_mean_squared_error: 0.5509\n",
            "Epoch 97/100\n",
            "16/16 [==============================] - 3s 173ms/step - loss: 0.0174 - mean_squared_error: 0.0174 - val_loss: 0.4923 - val_mean_squared_error: 0.4923\n",
            "Epoch 98/100\n",
            "16/16 [==============================] - 3s 177ms/step - loss: 0.0169 - mean_squared_error: 0.0169 - val_loss: 0.4505 - val_mean_squared_error: 0.4505\n",
            "Epoch 99/100\n",
            "16/16 [==============================] - 3s 177ms/step - loss: 0.0039 - mean_squared_error: 0.0039 - val_loss: 0.4588 - val_mean_squared_error: 0.4588\n",
            "Epoch 100/100\n",
            "16/16 [==============================] - 3s 176ms/step - loss: 0.0171 - mean_squared_error: 0.0171 - val_loss: 0.5731 - val_mean_squared_error: 0.5731\n"
          ],
          "name": "stdout"
        },
        {
          "output_type": "execute_result",
          "data": {
            "text/plain": [
              "<matplotlib.legend.Legend at 0x7f42825d6ef0>"
            ]
          },
          "metadata": {
            "tags": []
          },
          "execution_count": 12
        },
        {
          "output_type": "display_data",
          "data": {
            "image/png": "[encoded data removed]",
            "text/plain": [
              "<Figure size 432x288 with 1 Axes>"
            ]
          },
          "metadata": {
            "tags": [],
            "needs_background": "light"
          }
        }
      ]
    },
    {
      "cell_type": "code",
      "metadata": {
        "id": "aT7hYsgnj6ae",
        "colab": {
          "base_uri": "https://localhost:8080/",
          "height": 369
        },
        "outputId": "45caff8b-3427-4f98-e342-217163afe687"
      },
      "source": [
        "#### PREDICTION\r\n",
        "STEP_SIZE_TEST=test_generator.n//test_generator.batch_size\r\n",
        "test_generator.reset()\r\n",
        "\r\n",
        "predict=full_model.predict_generator(test_generator,steps=STEP_SIZE_TEST,verbose=1)\r\n",
        "\r\n",
        "# plot results\r\n",
        "pred = predict[:,0]\r\n",
        "true = testing_y\r\n",
        "plt.plot(pred,true, 'g^')\r\n",
        "\r\n",
        "# r2 and rmse \r\n",
        "slope, intercept, r_value, p_value, std_err = stats.linregress(true, pred) #x,y\r\n",
        "mse = mean_squared_error(true, pred)\r\n",
        "rmse = math.sqrt(mse)\r\n",
        "print(\"R2: %f\" % r_value**2)\r\n",
        "print(\"RMSE: %f\" % rmse)\r\n",
        "\r\n",
        "# ## save\r\n",
        "# df = DataFrame([true,pred])\r\n",
        "# df = df.T #transpose\r\n",
        "# df.to_excel('PATH TO EXPECTED DIRECTORY.xlsx', index=False)"
      ],
      "execution_count": 13,
      "outputs": [
        {
          "output_type": "stream",
          "text": [
            " 24/164 [===>..........................] - ETA: 0s"
          ],
          "name": "stdout"
        },
        {
          "output_type": "stream",
          "text": [
            "/usr/local/lib/python3.6/dist-packages/tensorflow/python/keras/engine/training.py:1905: UserWarning: `Model.predict_generator` is deprecated and will be removed in a future version. Please use `Model.predict`, which supports generators.\n",
            "  warnings.warn('`Model.predict_generator` is deprecated and '\n"
          ],
          "name": "stderr"
        },
        {
          "output_type": "stream",
          "text": [
            "164/164 [==============================] - 1s 5ms/step\n",
            "R2: 0.669020\n",
            "RMSE: 1.436382\n"
          ],
          "name": "stdout"
        },
        {
          "output_type": "display_data",
          "data": {
            "image/png": "[encoded data removed]",
            "text/plain": [
              "<Figure size 432x288 with 1 Axes>"
            ]
          },
          "metadata": {
            "tags": [],
            "needs_background": "light"
          }
        }
      ]
    }
  ]
}