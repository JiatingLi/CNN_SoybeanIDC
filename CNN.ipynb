{
  "nbformat": 4,
  "nbformat_minor": 0,
  "metadata": {
    "colab": {
      "name": "CNN.ipynb",
      "provenance": [],
      "collapsed_sections": [],
      "toc_visible": true,
      "mount_file_id": "1fxaih9KYbL-hmib5GMumcEMn1EngLXP9",
      "authorship_tag": "ABX9TyPJ4QziT1YCj9pd7uAYgxls",
      "include_colab_link": true
    },
    "kernelspec": {
      "name": "python3",
      "display_name": "Python 3"
    }
  },
  "cells": [
    {
      "cell_type": "markdown",
      "metadata": {
        "id": "view-in-github",
        "colab_type": "text"
      },
      "source": [
        "<a href=\"https://colab.research.google.com/github/JiatingLi/CNN_SoybeanIDC/blob/main/CNN.ipynb\" target=\"_parent\"><img src=\"https://colab.research.google.com/assets/colab-badge.svg\" alt=\"Open In Colab\"/></a>"
      ]
    },
    {
      "cell_type": "code",
      "metadata": {
        "id": "KRJAbHftghAY"
      },
      "source": [
        "import numpy as np\r\n",
        "import pandas as pd\r\n",
        "\r\n",
        "from keras.models import Model\r\n",
        "from keras.optimizers import Adam\r\n",
        "from keras.layers import Input,Dense,Flatten,Activation,Conv2D,MaxPooling2D\r\n",
        "from keras.layers.normalization import BatchNormalization\r\n",
        "from keras.initializers import TruncatedNormal\r\n",
        "from keras_preprocessing.image import ImageDataGenerator\r\n",
        "\r\n",
        "from matplotlib import pyplot as plt\r\n",
        "from pandas import DataFrame\r\n",
        "from skimage.transform import resize\r\n",
        "from sklearn.metrics import mean_squared_error\r\n",
        "from math import sqrt\r\n",
        "from statistics import mean"
      ],
      "execution_count": null,
      "outputs": []
    },
    {
      "cell_type": "code",
      "metadata": {
        "colab": {
          "base_uri": "https://localhost:8080/"
        },
        "id": "mF5RwGSqgiy_",
        "outputId": "5adcf00b-b16a-4158-e549-a3dcbd003261"
      },
      "source": [
        "#### DATA PREPARATION\r\n",
        "training_dir = '/content/drive/MyDrive/SoybeanIDC_CNN_Regression/Valley711_RIL/'\r\n",
        "testing_dir = '/content/drive/MyDrive/SoybeanIDC_CNN_Regression/Valley711_NAM/'\r\n",
        "\r\n",
        "training_label ='/content/drive/MyDrive/SoybeanIDC_CNN_Regression/Valley711_RIL.csv'\r\n",
        "testing_label = '/content/drive/MyDrive/SoybeanIDC_CNN_Regression/Valley711_NAM.csv'\r\n",
        "training_label = pd.read_csv(training_label, delimiter=',', header=0, names=['filename', 'IDC'])\r\n",
        "testing_label = pd.read_csv(testing_label, delimiter=',', header=0, names=['filename', 'IDC'])\r\n",
        "\r\n",
        "testing_y = np.array(testing_label['IDC']) #true IDC scores for testing dataset\r\n",
        "\r\n",
        "img_width, img_height = 224, 448 \r\n",
        "\r\n",
        "## Read data using flow_from_dataframe()\r\n",
        "datagen=ImageDataGenerator(rescale=1./255.,validation_split=0.2)\r\n",
        "test_datagen=ImageDataGenerator(rescale=1./255.)\r\n",
        "\r\n",
        "train_generator=datagen.flow_from_dataframe(\r\n",
        "    dataframe=training_label,\r\n",
        "    directory=training_dir,\r\n",
        "    x_col='filename', \r\n",
        "    y_col='IDC',\r\n",
        "    subset=\"training\",\r\n",
        "    batch_size=32,\r\n",
        "    seed=22,\r\n",
        "    shuffle=True,\r\n",
        "    class_mode='raw',\r\n",
        "    target_size=(img_height,img_width))\r\n",
        "\r\n",
        "valid_generator=datagen.flow_from_dataframe(\r\n",
        "    dataframe=training_label,\r\n",
        "    directory=training_dir,\r\n",
        "    x_col='filename', \r\n",
        "    y_col='IDC',\r\n",
        "    subset=\"validation\",\r\n",
        "    batch_size=32,\r\n",
        "    seed=22,\r\n",
        "    shuffle=True,\r\n",
        "    class_mode=\"raw\",\r\n",
        "    target_size=(img_height,img_width))\r\n",
        "\r\n",
        "test_generator=test_datagen.flow_from_dataframe(\r\n",
        "    dataframe=testing_label,\r\n",
        "    directory=testing_dir,\r\n",
        "    x_col=\"filename\",\r\n",
        "    y_col=None,\r\n",
        "    batch_size=1,\r\n",
        "    seed=22,\r\n",
        "    shuffle=False,\r\n",
        "    class_mode=None,\r\n",
        "    target_size=(img_height,img_width))"
      ],
      "execution_count": null,
      "outputs": [
        {
          "output_type": "stream",
          "text": [
            "Found 523 validated image filenames.\n",
            "Found 130 validated image filenames.\n",
            "Found 164 validated image filenames.\n"
          ],
          "name": "stdout"
        }
      ]
    },
    {
      "cell_type": "code",
      "metadata": {
        "id": "T0Z5FRsyjXQN"
      },
      "source": [
        "#### Some functions\r\n",
        "def best_fit_slope_and_intercept(xs,ys):\r\n",
        "    m = (((mean(xs)*mean(ys)) - mean(xs*ys)) /((mean(xs)*mean(xs)) - mean(xs*xs)))\r\n",
        "    b = mean(ys) - m*mean(xs)\r\n",
        "    return m, b\r\n",
        "\r\n",
        "def squared_error(y_true,y_line):\r\n",
        "    return sum((y_line - y_true) * (y_line - y_true))\r\n",
        "\r\n",
        "def coefficient_of_determination(y_true,y_line):\r\n",
        "    y_mean_line = [mean(y_true) for y in y_true]\r\n",
        "    squared_error_regr = squared_error(y_true, y_line)\r\n",
        "    squared_error_y_mean = squared_error(y_true, y_mean_line)\r\n",
        "    return 1 - (squared_error_regr/squared_error_y_mean)"
      ],
      "execution_count": null,
      "outputs": []
    },
    {
      "cell_type": "code",
      "metadata": {
        "id": "Dn1SV9CLjnuq"
      },
      "source": [
        "#### Define Model\r\n",
        "inChannel = 3\r\n",
        "input_img = Input(shape = (img_height, img_width, inChannel))\r\n",
        "\r\n",
        "def regres(input_img):\r\n",
        "    x = Conv2D(16, 3, kernel_initializer = TruncatedNormal(mean=0.0, stddev=0.05, seed=22),use_bias=False, padding='same')(input_img) \r\n",
        "    x = BatchNormalization()(x)\r\n",
        "    x = Activation('relu')(x)\r\n",
        "    x = Conv2D(16, 3, kernel_initializer = TruncatedNormal(mean=0.0, stddev=0.05, seed=22),use_bias=False, padding='same')(x)\r\n",
        "    x = BatchNormalization()(x)\r\n",
        "    x = Activation('relu')(x)\r\n",
        "    x = MaxPooling2D(pool_size=(2, 2))(x) \r\n",
        "    \r\n",
        "    x = Conv2D(16, 3, kernel_initializer = TruncatedNormal(mean=0.0, stddev=0.05, seed=22),use_bias=False, padding='same')(x) \r\n",
        "    x = BatchNormalization()(x)\r\n",
        "    x = Activation('relu')(x)\r\n",
        "    x = Conv2D(16, 3, kernel_initializer = TruncatedNormal(mean=0.0, stddev=0.05, seed=22),use_bias=False, padding='same')(x)\r\n",
        "    x = BatchNormalization()(x)\r\n",
        "    x = Activation('relu')(x)\r\n",
        "    x = MaxPooling2D(pool_size=(2, 2))(x) \r\n",
        "     \r\n",
        "    x = Flatten()(x)\r\n",
        "    x = Dense(100,kernel_initializer = TruncatedNormal(mean=0.0, stddev=0.05, seed=22),bias_initializer='zeros')(x)\r\n",
        "    x = Activation('relu')(x)\r\n",
        "    x = Dense(100,kernel_initializer = TruncatedNormal(mean=0.0, stddev=0.05, seed=22),bias_initializer='zeros')(x)\r\n",
        "    x = Activation('relu')(x)\r\n",
        "    x = Dense(1,kernel_initializer = TruncatedNormal(mean=0.0, stddev=0.05, seed=22),bias_initializer='zeros')(x)\r\n",
        "    pred = Activation('linear')(x)\r\n",
        "    return pred \r\n",
        "\r\n",
        "full_model = Model(input_img,regres(input_img))\r\n",
        "full_model.compile(loss='mean_squared_error', metrics=['mean_squared_error'], optimizer=Adam(lr=0.0001))"
      ],
      "execution_count": null,
      "outputs": []
    },
    {
      "cell_type": "code",
      "metadata": {
        "colab": {
          "base_uri": "https://localhost:8080/",
          "height": 1000
        },
        "id": "MD4cotnFjz21",
        "outputId": "9eb9e140-5213-41dd-ca08-6d013fd615e0"
      },
      "source": [
        "#### TRAIN model\r\n",
        "STEP_SIZE_TRAIN=train_generator.n//train_generator.batch_size\r\n",
        "STEP_SIZE_VALID=valid_generator.n//valid_generator.batch_size\r\n",
        "\r\n",
        "regressor = full_model.fit_generator(generator=train_generator,\r\n",
        "                                     steps_per_epoch=STEP_SIZE_TRAIN,\r\n",
        "                                     validation_data=valid_generator,\r\n",
        "                                     validation_steps=STEP_SIZE_VALID,\r\n",
        "                                     epochs=100)\r\n",
        "\r\n",
        "## plot training process\r\n",
        "loss = regressor.history['loss']\r\n",
        "val_loss = regressor.history['val_loss']\r\n",
        "epochs = range(len(loss))\r\n",
        "plt.figure()\r\n",
        "plt.plot(epochs, loss, 'b', label='Training loss')\r\n",
        "plt.plot(epochs, val_loss, 'r', label='Validation loss')\r\n",
        "plt.title('Training and validation loss')\r\n",
        "plt.legend()"
      ],
      "execution_count": null,
      "outputs": [
        {
          "output_type": "stream",
          "text": [
            "/usr/local/lib/python3.6/dist-packages/tensorflow/python/keras/engine/training.py:1844: UserWarning: `Model.fit_generator` is deprecated and will be removed in a future version. Please use `Model.fit`, which supports generators.\n",
            "  warnings.warn('`Model.fit_generator` is deprecated and '\n"
          ],
          "name": "stderr"
        },
        {
          "output_type": "stream",
          "text": [
            "Epoch 1/100\n",
            "16/16 [==============================] - 229s 14s/step - loss: 4.4934 - mean_squared_error: 4.4934 - val_loss: 20.9858 - val_mean_squared_error: 20.9858\n",
            "Epoch 2/100\n",
            "16/16 [==============================] - 110s 7s/step - loss: 1.1364 - mean_squared_error: 1.1364 - val_loss: 20.8765 - val_mean_squared_error: 20.8765\n",
            "Epoch 3/100\n",
            "16/16 [==============================] - 114s 7s/step - loss: 0.6919 - mean_squared_error: 0.6919 - val_loss: 20.3822 - val_mean_squared_error: 20.3822\n",
            "Epoch 4/100\n",
            "16/16 [==============================] - 110s 7s/step - loss: 0.3879 - mean_squared_error: 0.3879 - val_loss: 20.3253 - val_mean_squared_error: 20.3253\n",
            "Epoch 5/100\n",
            "16/16 [==============================] - 109s 7s/step - loss: 0.2710 - mean_squared_error: 0.2710 - val_loss: 20.2596 - val_mean_squared_error: 20.2596\n",
            "Epoch 6/100\n",
            "16/16 [==============================] - 109s 7s/step - loss: 0.1830 - mean_squared_error: 0.1830 - val_loss: 19.9335 - val_mean_squared_error: 19.9335\n",
            "Epoch 7/100\n",
            "16/16 [==============================] - 109s 7s/step - loss: 0.1446 - mean_squared_error: 0.1446 - val_loss: 19.6464 - val_mean_squared_error: 19.6464\n",
            "Epoch 8/100\n",
            "16/16 [==============================] - 108s 7s/step - loss: 0.0962 - mean_squared_error: 0.0962 - val_loss: 19.6261 - val_mean_squared_error: 19.6261\n",
            "Epoch 9/100\n",
            "16/16 [==============================] - 112s 7s/step - loss: 0.0745 - mean_squared_error: 0.0745 - val_loss: 19.3412 - val_mean_squared_error: 19.3412\n",
            "Epoch 10/100\n",
            "16/16 [==============================] - 107s 7s/step - loss: 0.0617 - mean_squared_error: 0.0617 - val_loss: 18.9272 - val_mean_squared_error: 18.9272\n",
            "Epoch 11/100\n",
            "16/16 [==============================] - 107s 7s/step - loss: 0.0437 - mean_squared_error: 0.0437 - val_loss: 18.8711 - val_mean_squared_error: 18.8711\n",
            "Epoch 12/100\n",
            "16/16 [==============================] - 107s 7s/step - loss: 0.0496 - mean_squared_error: 0.0496 - val_loss: 18.5321 - val_mean_squared_error: 18.5321\n",
            "Epoch 13/100\n",
            "16/16 [==============================] - 106s 7s/step - loss: 0.0656 - mean_squared_error: 0.0656 - val_loss: 18.4866 - val_mean_squared_error: 18.4866\n",
            "Epoch 14/100\n",
            "16/16 [==============================] - 110s 7s/step - loss: 0.1374 - mean_squared_error: 0.1374 - val_loss: 18.0965 - val_mean_squared_error: 18.0965\n",
            "Epoch 15/100\n",
            "16/16 [==============================] - 107s 7s/step - loss: 0.0459 - mean_squared_error: 0.0459 - val_loss: 18.0187 - val_mean_squared_error: 18.0187\n",
            "Epoch 16/100\n",
            "16/16 [==============================] - 107s 7s/step - loss: 0.0599 - mean_squared_error: 0.0599 - val_loss: 17.1165 - val_mean_squared_error: 17.1165\n",
            "Epoch 17/100\n",
            "16/16 [==============================] - 106s 7s/step - loss: 0.0248 - mean_squared_error: 0.0248 - val_loss: 17.3625 - val_mean_squared_error: 17.3625\n",
            "Epoch 18/100\n",
            "16/16 [==============================] - 107s 7s/step - loss: 0.0356 - mean_squared_error: 0.0356 - val_loss: 16.8033 - val_mean_squared_error: 16.8033\n",
            "Epoch 19/100\n",
            "16/16 [==============================] - 107s 7s/step - loss: 0.0171 - mean_squared_error: 0.0171 - val_loss: 16.2382 - val_mean_squared_error: 16.2382\n",
            "Epoch 20/100\n",
            "16/16 [==============================] - 111s 7s/step - loss: 0.0575 - mean_squared_error: 0.0575 - val_loss: 16.0629 - val_mean_squared_error: 16.0629\n",
            "Epoch 21/100\n",
            "16/16 [==============================] - 107s 7s/step - loss: 0.0206 - mean_squared_error: 0.0206 - val_loss: 15.5002 - val_mean_squared_error: 15.5002\n",
            "Epoch 22/100\n",
            "16/16 [==============================] - 107s 7s/step - loss: 0.0185 - mean_squared_error: 0.0185 - val_loss: 14.9306 - val_mean_squared_error: 14.9306\n",
            "Epoch 23/100\n",
            "16/16 [==============================] - 107s 7s/step - loss: 0.0157 - mean_squared_error: 0.0157 - val_loss: 14.0893 - val_mean_squared_error: 14.0893\n",
            "Epoch 24/100\n",
            "16/16 [==============================] - 107s 7s/step - loss: 0.0341 - mean_squared_error: 0.0341 - val_loss: 13.8326 - val_mean_squared_error: 13.8326\n",
            "Epoch 25/100\n",
            "16/16 [==============================] - 107s 7s/step - loss: 0.0292 - mean_squared_error: 0.0292 - val_loss: 12.8440 - val_mean_squared_error: 12.8440\n",
            "Epoch 26/100\n",
            "16/16 [==============================] - 110s 7s/step - loss: 0.0320 - mean_squared_error: 0.0320 - val_loss: 12.0702 - val_mean_squared_error: 12.0702\n",
            "Epoch 27/100\n",
            "16/16 [==============================] - 107s 7s/step - loss: 0.0198 - mean_squared_error: 0.0198 - val_loss: 11.5499 - val_mean_squared_error: 11.5499\n",
            "Epoch 28/100\n",
            "16/16 [==============================] - 107s 7s/step - loss: 0.0231 - mean_squared_error: 0.0231 - val_loss: 10.1136 - val_mean_squared_error: 10.1136\n",
            "Epoch 29/100\n",
            "16/16 [==============================] - 107s 7s/step - loss: 0.0285 - mean_squared_error: 0.0285 - val_loss: 9.3579 - val_mean_squared_error: 9.3579\n",
            "Epoch 30/100\n",
            "16/16 [==============================] - 107s 7s/step - loss: 0.0264 - mean_squared_error: 0.0264 - val_loss: 8.4326 - val_mean_squared_error: 8.4326\n",
            "Epoch 31/100\n",
            "16/16 [==============================] - 107s 7s/step - loss: 0.0412 - mean_squared_error: 0.0412 - val_loss: 7.7739 - val_mean_squared_error: 7.7739\n",
            "Epoch 32/100\n",
            "16/16 [==============================] - 107s 7s/step - loss: 0.0179 - mean_squared_error: 0.0179 - val_loss: 6.9438 - val_mean_squared_error: 6.9438\n",
            "Epoch 33/100\n",
            "16/16 [==============================] - 111s 7s/step - loss: 0.0138 - mean_squared_error: 0.0138 - val_loss: 5.9690 - val_mean_squared_error: 5.9690\n",
            "Epoch 34/100\n",
            "16/16 [==============================] - 106s 7s/step - loss: 0.0187 - mean_squared_error: 0.0187 - val_loss: 5.4850 - val_mean_squared_error: 5.4850\n",
            "Epoch 35/100\n",
            "16/16 [==============================] - 107s 7s/step - loss: 0.0247 - mean_squared_error: 0.0247 - val_loss: 4.6260 - val_mean_squared_error: 4.6260\n",
            "Epoch 36/100\n",
            "16/16 [==============================] - 111s 7s/step - loss: 0.0182 - mean_squared_error: 0.0182 - val_loss: 4.0407 - val_mean_squared_error: 4.0407\n",
            "Epoch 37/100\n",
            "16/16 [==============================] - 107s 7s/step - loss: 0.0168 - mean_squared_error: 0.0168 - val_loss: 3.7773 - val_mean_squared_error: 3.7773\n",
            "Epoch 38/100\n",
            "16/16 [==============================] - 107s 7s/step - loss: 0.0146 - mean_squared_error: 0.0146 - val_loss: 3.1350 - val_mean_squared_error: 3.1350\n",
            "Epoch 39/100\n",
            "16/16 [==============================] - 110s 7s/step - loss: 0.0129 - mean_squared_error: 0.0129 - val_loss: 2.5727 - val_mean_squared_error: 2.5727\n",
            "Epoch 40/100\n",
            "16/16 [==============================] - 107s 7s/step - loss: 0.0239 - mean_squared_error: 0.0239 - val_loss: 2.4524 - val_mean_squared_error: 2.4524\n",
            "Epoch 41/100\n",
            "16/16 [==============================] - 107s 7s/step - loss: 0.0096 - mean_squared_error: 0.0096 - val_loss: 2.0409 - val_mean_squared_error: 2.0409\n",
            "Epoch 42/100\n",
            "16/16 [==============================] - 107s 7s/step - loss: 0.0102 - mean_squared_error: 0.0102 - val_loss: 1.7720 - val_mean_squared_error: 1.7720\n",
            "Epoch 43/100\n",
            "16/16 [==============================] - 107s 7s/step - loss: 0.0197 - mean_squared_error: 0.0197 - val_loss: 1.5336 - val_mean_squared_error: 1.5336\n",
            "Epoch 44/100\n",
            "16/16 [==============================] - 108s 7s/step - loss: 0.0193 - mean_squared_error: 0.0193 - val_loss: 1.2397 - val_mean_squared_error: 1.2397\n",
            "Epoch 45/100\n",
            "16/16 [==============================] - 107s 7s/step - loss: 0.0314 - mean_squared_error: 0.0314 - val_loss: 1.1543 - val_mean_squared_error: 1.1543\n",
            "Epoch 46/100\n",
            "16/16 [==============================] - 107s 7s/step - loss: 0.0157 - mean_squared_error: 0.0157 - val_loss: 0.9002 - val_mean_squared_error: 0.9002\n",
            "Epoch 47/100\n",
            "16/16 [==============================] - 107s 7s/step - loss: 0.0436 - mean_squared_error: 0.0436 - val_loss: 0.8392 - val_mean_squared_error: 0.8392\n",
            "Epoch 48/100\n",
            "16/16 [==============================] - 107s 7s/step - loss: 0.0183 - mean_squared_error: 0.0183 - val_loss: 0.8161 - val_mean_squared_error: 0.8161\n",
            "Epoch 49/100\n",
            "16/16 [==============================] - 107s 7s/step - loss: 0.0339 - mean_squared_error: 0.0339 - val_loss: 0.7952 - val_mean_squared_error: 0.7952\n",
            "Epoch 50/100\n",
            "16/16 [==============================] - 107s 7s/step - loss: 0.0203 - mean_squared_error: 0.0203 - val_loss: 0.7434 - val_mean_squared_error: 0.7434\n",
            "Epoch 51/100\n",
            "16/16 [==============================] - 110s 7s/step - loss: 0.0203 - mean_squared_error: 0.0203 - val_loss: 0.8136 - val_mean_squared_error: 0.8136\n",
            "Epoch 52/100\n",
            "16/16 [==============================] - 107s 7s/step - loss: 0.0142 - mean_squared_error: 0.0142 - val_loss: 0.8478 - val_mean_squared_error: 0.8478\n",
            "Epoch 53/100\n",
            "16/16 [==============================] - 107s 7s/step - loss: 0.0243 - mean_squared_error: 0.0243 - val_loss: 0.6631 - val_mean_squared_error: 0.6631\n",
            "Epoch 54/100\n",
            "16/16 [==============================] - 107s 7s/step - loss: 0.0361 - mean_squared_error: 0.0361 - val_loss: 0.6402 - val_mean_squared_error: 0.6402\n",
            "Epoch 55/100\n",
            "16/16 [==============================] - 107s 7s/step - loss: 0.0423 - mean_squared_error: 0.0423 - val_loss: 0.7041 - val_mean_squared_error: 0.7041\n",
            "Epoch 56/100\n",
            "16/16 [==============================] - 107s 7s/step - loss: 0.0310 - mean_squared_error: 0.0310 - val_loss: 0.7296 - val_mean_squared_error: 0.7296\n",
            "Epoch 57/100\n",
            "16/16 [==============================] - 107s 7s/step - loss: 0.0225 - mean_squared_error: 0.0225 - val_loss: 0.7419 - val_mean_squared_error: 0.7419\n",
            "Epoch 58/100\n",
            "16/16 [==============================] - 107s 7s/step - loss: 0.0128 - mean_squared_error: 0.0128 - val_loss: 0.7125 - val_mean_squared_error: 0.7125\n",
            "Epoch 59/100\n",
            "16/16 [==============================] - 107s 7s/step - loss: 0.0097 - mean_squared_error: 0.0097 - val_loss: 0.7155 - val_mean_squared_error: 0.7155\n",
            "Epoch 60/100\n",
            "16/16 [==============================] - 110s 7s/step - loss: 0.0086 - mean_squared_error: 0.0086 - val_loss: 0.6428 - val_mean_squared_error: 0.6428\n",
            "Epoch 61/100\n",
            "16/16 [==============================] - 107s 7s/step - loss: 0.0170 - mean_squared_error: 0.0170 - val_loss: 0.6438 - val_mean_squared_error: 0.6438\n",
            "Epoch 62/100\n",
            "16/16 [==============================] - 107s 7s/step - loss: 0.0183 - mean_squared_error: 0.0183 - val_loss: 0.6416 - val_mean_squared_error: 0.6416\n",
            "Epoch 63/100\n",
            "16/16 [==============================] - 107s 7s/step - loss: 0.0185 - mean_squared_error: 0.0185 - val_loss: 0.6141 - val_mean_squared_error: 0.6141\n",
            "Epoch 64/100\n",
            "16/16 [==============================] - 107s 7s/step - loss: 0.0178 - mean_squared_error: 0.0178 - val_loss: 0.6507 - val_mean_squared_error: 0.6507\n",
            "Epoch 65/100\n",
            "16/16 [==============================] - 107s 7s/step - loss: 0.0130 - mean_squared_error: 0.0130 - val_loss: 0.6684 - val_mean_squared_error: 0.6684\n",
            "Epoch 66/100\n",
            "16/16 [==============================] - 111s 7s/step - loss: 0.0266 - mean_squared_error: 0.0266 - val_loss: 0.5846 - val_mean_squared_error: 0.5846\n",
            "Epoch 67/100\n",
            "16/16 [==============================] - 107s 7s/step - loss: 0.0210 - mean_squared_error: 0.0210 - val_loss: 0.6587 - val_mean_squared_error: 0.6587\n",
            "Epoch 68/100\n",
            "16/16 [==============================] - 106s 7s/step - loss: 0.0195 - mean_squared_error: 0.0195 - val_loss: 0.6369 - val_mean_squared_error: 0.6369\n",
            "Epoch 69/100\n",
            "16/16 [==============================] - 106s 7s/step - loss: 0.0159 - mean_squared_error: 0.0159 - val_loss: 0.6706 - val_mean_squared_error: 0.6706\n",
            "Epoch 70/100\n",
            "16/16 [==============================] - 107s 7s/step - loss: 0.0069 - mean_squared_error: 0.0069 - val_loss: 0.7068 - val_mean_squared_error: 0.7068\n",
            "Epoch 71/100\n",
            "16/16 [==============================] - 106s 7s/step - loss: 0.0170 - mean_squared_error: 0.0170 - val_loss: 0.5740 - val_mean_squared_error: 0.5740\n",
            "Epoch 72/100\n",
            "16/16 [==============================] - 110s 7s/step - loss: 0.0242 - mean_squared_error: 0.0242 - val_loss: 0.5861 - val_mean_squared_error: 0.5861\n",
            "Epoch 73/100\n",
            "16/16 [==============================] - 106s 7s/step - loss: 0.0275 - mean_squared_error: 0.0275 - val_loss: 0.5890 - val_mean_squared_error: 0.5890\n",
            "Epoch 74/100\n",
            "16/16 [==============================] - 106s 7s/step - loss: 0.0120 - mean_squared_error: 0.0120 - val_loss: 0.6215 - val_mean_squared_error: 0.6215\n",
            "Epoch 75/100\n",
            "16/16 [==============================] - 106s 7s/step - loss: 0.0219 - mean_squared_error: 0.0219 - val_loss: 0.5950 - val_mean_squared_error: 0.5950\n",
            "Epoch 76/100\n",
            "16/16 [==============================] - 106s 7s/step - loss: 0.0080 - mean_squared_error: 0.0080 - val_loss: 0.6404 - val_mean_squared_error: 0.6404\n",
            "Epoch 77/100\n",
            "16/16 [==============================] - 106s 7s/step - loss: 0.0104 - mean_squared_error: 0.0104 - val_loss: 0.6228 - val_mean_squared_error: 0.6228\n",
            "Epoch 78/100\n",
            "16/16 [==============================] - 106s 7s/step - loss: 0.0063 - mean_squared_error: 0.0063 - val_loss: 0.5995 - val_mean_squared_error: 0.5995\n",
            "Epoch 79/100\n",
            "16/16 [==============================] - 110s 7s/step - loss: 0.0037 - mean_squared_error: 0.0037 - val_loss: 0.6807 - val_mean_squared_error: 0.6807\n",
            "Epoch 80/100\n",
            "16/16 [==============================] - 109s 7s/step - loss: 0.0111 - mean_squared_error: 0.0111 - val_loss: 0.6665 - val_mean_squared_error: 0.6665\n",
            "Epoch 81/100\n",
            "16/16 [==============================] - 106s 7s/step - loss: 0.0064 - mean_squared_error: 0.0064 - val_loss: 0.6751 - val_mean_squared_error: 0.6751\n",
            "Epoch 82/100\n",
            "16/16 [==============================] - 105s 7s/step - loss: 0.0100 - mean_squared_error: 0.0100 - val_loss: 0.6715 - val_mean_squared_error: 0.6715\n",
            "Epoch 83/100\n",
            "16/16 [==============================] - 106s 7s/step - loss: 0.0100 - mean_squared_error: 0.0100 - val_loss: 0.6327 - val_mean_squared_error: 0.6327\n",
            "Epoch 84/100\n",
            "16/16 [==============================] - 105s 7s/step - loss: 0.0119 - mean_squared_error: 0.0119 - val_loss: 0.7018 - val_mean_squared_error: 0.7018\n",
            "Epoch 85/100\n",
            "16/16 [==============================] - 105s 7s/step - loss: 0.0144 - mean_squared_error: 0.0144 - val_loss: 0.6454 - val_mean_squared_error: 0.6454\n",
            "Epoch 86/100\n",
            "16/16 [==============================] - 105s 7s/step - loss: 0.0137 - mean_squared_error: 0.0137 - val_loss: 0.6383 - val_mean_squared_error: 0.6383\n",
            "Epoch 87/100\n",
            "16/16 [==============================] - 105s 7s/step - loss: 0.0091 - mean_squared_error: 0.0091 - val_loss: 0.6183 - val_mean_squared_error: 0.6183\n",
            "Epoch 88/100\n",
            "16/16 [==============================] - 106s 7s/step - loss: 0.0132 - mean_squared_error: 0.0132 - val_loss: 0.6723 - val_mean_squared_error: 0.6723\n",
            "Epoch 89/100\n",
            "16/16 [==============================] - 106s 7s/step - loss: 0.0060 - mean_squared_error: 0.0060 - val_loss: 0.6706 - val_mean_squared_error: 0.6706\n",
            "Epoch 90/100\n",
            "16/16 [==============================] - 106s 7s/step - loss: 0.0058 - mean_squared_error: 0.0058 - val_loss: 0.6412 - val_mean_squared_error: 0.6412\n",
            "Epoch 91/100\n",
            "16/16 [==============================] - 107s 7s/step - loss: 0.0051 - mean_squared_error: 0.0051 - val_loss: 0.6482 - val_mean_squared_error: 0.6482\n",
            "Epoch 92/100\n",
            "16/16 [==============================] - 109s 7s/step - loss: 0.0108 - mean_squared_error: 0.0108 - val_loss: 0.6902 - val_mean_squared_error: 0.6902\n",
            "Epoch 93/100\n",
            "16/16 [==============================] - 106s 7s/step - loss: 0.0253 - mean_squared_error: 0.0253 - val_loss: 0.7256 - val_mean_squared_error: 0.7256\n",
            "Epoch 94/100\n",
            "16/16 [==============================] - 106s 7s/step - loss: 0.0188 - mean_squared_error: 0.0188 - val_loss: 0.6557 - val_mean_squared_error: 0.6557\n",
            "Epoch 95/100\n",
            "16/16 [==============================] - 106s 7s/step - loss: 0.0107 - mean_squared_error: 0.0107 - val_loss: 0.6162 - val_mean_squared_error: 0.6162\n",
            "Epoch 96/100\n",
            "16/16 [==============================] - 105s 7s/step - loss: 0.0083 - mean_squared_error: 0.0083 - val_loss: 0.6299 - val_mean_squared_error: 0.6299\n",
            "Epoch 97/100\n",
            "16/16 [==============================] - 105s 7s/step - loss: 0.0154 - mean_squared_error: 0.0154 - val_loss: 0.7843 - val_mean_squared_error: 0.7843\n",
            "Epoch 98/100\n",
            "16/16 [==============================] - 105s 7s/step - loss: 0.0320 - mean_squared_error: 0.0320 - val_loss: 0.6129 - val_mean_squared_error: 0.6129\n",
            "Epoch 99/100\n",
            "16/16 [==============================] - 105s 7s/step - loss: 0.0147 - mean_squared_error: 0.0147 - val_loss: 0.6496 - val_mean_squared_error: 0.6496\n",
            "Epoch 100/100\n",
            "16/16 [==============================] - 113s 7s/step - loss: 0.0122 - mean_squared_error: 0.0122 - val_loss: 0.6113 - val_mean_squared_error: 0.6113\n"
          ],
          "name": "stdout"
        },
        {
          "output_type": "execute_result",
          "data": {
            "text/plain": [
              "<matplotlib.legend.Legend at 0x7f9fd8006550>"
            ]
          },
          "metadata": {
            "tags": []
          },
          "execution_count": 10
        },
        {
          "output_type": "display_data",
          "data": {
            "image/png": "[encoded data removed]",
            "text/plain": [
              "<Figure size 432x288 with 1 Axes>"
            ]
          },
          "metadata": {
            "tags": [],
            "needs_background": "light"
          }
        }
      ]
    },
    {
      "cell_type": "code",
      "metadata": {
        "id": "aT7hYsgnj6ae",
        "colab": {
          "base_uri": "https://localhost:8080/",
          "height": 369
        },
        "outputId": "34cc2e6d-adab-4b3c-ac5f-69e07eecf74a"
      },
      "source": [
        "#### PREDICTION\r\n",
        "STEP_SIZE_TEST=test_generator.n//test_generator.batch_size\r\n",
        "test_generator.reset()\r\n",
        "\r\n",
        "predict=full_model.predict_generator(test_generator,steps=STEP_SIZE_TEST,verbose=1)\r\n",
        "\r\n",
        "pred = predict[:,0]\r\n",
        "true = testing_y\r\n",
        "plt.plot(pred,true, 'g^')\r\n",
        "\r\n",
        "# r2 and rmse \r\n",
        "m, b = best_fit_slope_and_intercept(pred,true)\r\n",
        "regression_line = [(m*x)+b for x in pred]\r\n",
        "r2 = coefficient_of_determination(true, regression_line)\r\n",
        "rmse = sqrt(mean_squared_error(true, pred))\r\n",
        "print('r2: %.3f' % r2)\r\n",
        "print('RMSE: %.3f' % rmse)\r\n",
        "\r\n",
        "# ## save\r\n",
        "# df = DataFrame([true,pred])\r\n",
        "# df = df.T #transpose\r\n",
        "# df.to_excel('PATH TO EXPECTED DIRECTORY.xlsx', index=False)"
      ],
      "execution_count": null,
      "outputs": [
        {
          "output_type": "stream",
          "text": [
            "/usr/local/lib/python3.6/dist-packages/tensorflow/python/keras/engine/training.py:1905: UserWarning: `Model.predict_generator` is deprecated and will be removed in a future version. Please use `Model.predict`, which supports generators.\n",
            "  warnings.warn('`Model.predict_generator` is deprecated and '\n"
          ],
          "name": "stderr"
        },
        {
          "output_type": "stream",
          "text": [
            "164/164 [==============================] - 57s 350ms/step\n",
            "r2: 0.500\n",
            "RMSE: 1.668\n"
          ],
          "name": "stdout"
        },
        {
          "output_type": "display_data",
          "data": {
            "image/png": "[encoded data removed]",
            "text/plain": [
              "<Figure size 432x288 with 1 Axes>"
            ]
          },
          "metadata": {
            "tags": [],
            "needs_background": "light"
          }
        }
      ]
    }
  ]
}