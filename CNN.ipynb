{
  "nbformat": 4,
  "nbformat_minor": 0,
  "metadata": {
    "accelerator": "GPU",
    "colab": {
      "name": "CNN.ipynb",
      "provenance": [],
      "collapsed_sections": [],
      "toc_visible": true,
      "mount_file_id": "1fxaih9KYbL-hmib5GMumcEMn1EngLXP9",
      "authorship_tag": "ABX9TyPzgZMbtcsziuV78WCVsglv",
      "include_colab_link": true
    },
    "kernelspec": {
      "display_name": "Python 3",
      "name": "python3"
    }
  },
  "cells": [
    {
      "cell_type": "markdown",
      "metadata": {
        "id": "view-in-github",
        "colab_type": "text"
      },
      "source": [
        "<a href=\"https://colab.research.google.com/github/JiatingLi/CNN_SoybeanIDC/blob/main/CNN.ipynb\" target=\"_parent\"><img src=\"https://colab.research.google.com/assets/colab-badge.svg\" alt=\"Open In Colab\"/></a>"
      ]
    },
    {
      "cell_type": "code",
      "metadata": {
        "id": "KRJAbHftghAY"
      },
      "source": [
        "# for data reading\r\n",
        "import pandas as pd\r\n",
        "import numpy as np\r\n",
        "from keras_preprocessing.image import ImageDataGenerator\r\n",
        "\r\n",
        "# for model architecture\r\n",
        "from keras.models import Model\r\n",
        "from keras.layers import Input, Dense, Flatten, Conv2D, MaxPooling2D\r\n",
        "from keras.optimizers import Adam\r\n",
        "\r\n",
        "# for plotting\r\n",
        "from matplotlib import pyplot as plt\r\n",
        "\r\n",
        "# for prediction evaluation\r\n",
        "import math\r\n",
        "from scipy import stats\r\n",
        "from sklearn.metrics import mean_squared_error\r\n",
        "\r\n",
        "# for saving files\r\n",
        "from pandas import DataFrame"
      ],
      "execution_count": 14,
      "outputs": []
    },
    {
      "cell_type": "code",
      "metadata": {
        "colab": {
          "base_uri": "https://localhost:8080/"
        },
        "id": "mF5RwGSqgiy_",
        "outputId": "936825c8-d69a-4e46-8caa-7a0e5cbafb58"
      },
      "source": [
        "#### DATA PREPARATION\r\n",
        "training_dir = '/content/drive/MyDrive/SoybeanIDC_CNN_Data/Valley711_RIL/' ##NEED TO refine directory for your own case\r\n",
        "testing_dir = '/content/drive/MyDrive/SoybeanIDC_CNN_Data/Valley711_NAM/'\r\n",
        "\r\n",
        "training_label_dir ='/content/drive/MyDrive/SoybeanIDC_CNN_Data/Valley711_RIL.csv'\r\n",
        "testing_label_dir = '/content/drive/MyDrive/SoybeanIDC_CNN_Data/Valley711_NAM.csv'\r\n",
        "training_label = pd.read_csv(training_label_dir, delimiter=',', header=0, names=['filename', 'IDC'])\r\n",
        "testing_label = pd.read_csv(testing_label_dir, delimiter=',', header=0, names=['filename', 'IDC'])\r\n",
        "\r\n",
        "testing_y = np.array(testing_label['IDC']) #true IDC scores for testing dataset\r\n",
        "\r\n",
        "img_width, img_height = 224, 448 \r\n",
        "\r\n",
        "## Read data using flow_from_dataframe()\r\n",
        "datagen=ImageDataGenerator(rescale=1./255.,validation_split=0.2)\r\n",
        "test_datagen=ImageDataGenerator(rescale=1./255.)\r\n",
        "\r\n",
        "train_generator=datagen.flow_from_dataframe(\r\n",
        "    dataframe=training_label,\r\n",
        "    directory=training_dir,\r\n",
        "    x_col='filename', \r\n",
        "    y_col='IDC',\r\n",
        "    subset=\"training\",\r\n",
        "    batch_size=32,\r\n",
        "    seed=22,\r\n",
        "    shuffle=True,\r\n",
        "    class_mode='raw',\r\n",
        "    target_size=(img_height,img_width))\r\n",
        "\r\n",
        "valid_generator=datagen.flow_from_dataframe(\r\n",
        "    dataframe=training_label,\r\n",
        "    directory=training_dir,\r\n",
        "    x_col='filename', \r\n",
        "    y_col='IDC',\r\n",
        "    subset=\"validation\",\r\n",
        "    batch_size=32,\r\n",
        "    seed=22,\r\n",
        "    shuffle=True,\r\n",
        "    class_mode=\"raw\",\r\n",
        "    target_size=(img_height,img_width))\r\n",
        "\r\n",
        "test_generator=test_datagen.flow_from_dataframe(\r\n",
        "    dataframe=testing_label,\r\n",
        "    directory=testing_dir,\r\n",
        "    x_col=\"filename\",\r\n",
        "    y_col=None,\r\n",
        "    batch_size=1,\r\n",
        "    seed=22,\r\n",
        "    shuffle=False,\r\n",
        "    class_mode=None,\r\n",
        "    target_size=(img_height,img_width))"
      ],
      "execution_count": 15,
      "outputs": [
        {
          "output_type": "stream",
          "text": [
            "Found 523 validated image filenames.\n",
            "Found 130 validated image filenames.\n",
            "Found 164 validated image filenames.\n"
          ],
          "name": "stdout"
        }
      ]
    },
    {
      "cell_type": "code",
      "metadata": {
        "colab": {
          "base_uri": "https://localhost:8080/"
        },
        "id": "Dn1SV9CLjnuq",
        "outputId": "02f8d508-0d4b-4706-d27a-ca5d4f0c32d6"
      },
      "source": [
        "#### Define Model\r\n",
        "inChannel = 3\r\n",
        "input_img = Input(shape = (img_height, img_width, inChannel))\r\n",
        "\r\n",
        "def regres(input_img):\r\n",
        "    x = Conv2D(filters=16, kernel_size=3, activation='relu', padding='same')(input_img) \r\n",
        "    x = MaxPooling2D(pool_size=(2, 2))(x) \r\n",
        "    \r\n",
        "    x = Conv2D(filters=32, kernel_size=3, activation='relu', padding='same')(x) \r\n",
        "    x = MaxPooling2D(pool_size=(2, 2))(x) \r\n",
        "     \r\n",
        "    x = Flatten()(x)\r\n",
        "    x = Dense(units=100, activation='relu')(x)\r\n",
        "\r\n",
        "    #The output layer. Use 'softmax' or 'sigmoid' activation if your task is classification problem\r\n",
        "    pred = Dense(units=1, activation='linear')(x) \r\n",
        "    return pred \r\n",
        "\r\n",
        "\r\n",
        "full_model = Model(input_img,regres(input_img))\r\n",
        "\r\n",
        "full_model.summary()\r\n",
        "\r\n",
        "full_model.compile(loss='mean_squared_error', metrics=['mean_squared_error'], optimizer=Adam(lr=0.0001))"
      ],
      "execution_count": 16,
      "outputs": [
        {
          "output_type": "stream",
          "text": [
            "Model: \"model_4\"\n",
            "_________________________________________________________________\n",
            "Layer (type)                 Output Shape              Param #   \n",
            "=================================================================\n",
            "input_5 (InputLayer)         [(None, 448, 224, 3)]     0         \n",
            "_________________________________________________________________\n",
            "conv2d_14 (Conv2D)           (None, 448, 224, 16)      448       \n",
            "_________________________________________________________________\n",
            "max_pooling2d_8 (MaxPooling2 (None, 224, 112, 16)      0         \n",
            "_________________________________________________________________\n",
            "conv2d_15 (Conv2D)           (None, 224, 112, 32)      4640      \n",
            "_________________________________________________________________\n",
            "max_pooling2d_9 (MaxPooling2 (None, 112, 56, 32)       0         \n",
            "_________________________________________________________________\n",
            "flatten_4 (Flatten)          (None, 200704)            0         \n",
            "_________________________________________________________________\n",
            "dense_8 (Dense)              (None, 100)               20070500  \n",
            "_________________________________________________________________\n",
            "dense_9 (Dense)              (None, 1)                 101       \n",
            "=================================================================\n",
            "Total params: 20,075,689\n",
            "Trainable params: 20,075,689\n",
            "Non-trainable params: 0\n",
            "_________________________________________________________________\n"
          ],
          "name": "stdout"
        }
      ]
    },
    {
      "cell_type": "code",
      "metadata": {
        "colab": {
          "base_uri": "https://localhost:8080/",
          "height": 1000
        },
        "id": "MD4cotnFjz21",
        "outputId": "8b71e0ff-41ce-461e-fa29-b323611c8cbd"
      },
      "source": [
        "#### TRAIN model\r\n",
        "STEP_SIZE_TRAIN=train_generator.n//train_generator.batch_size\r\n",
        "STEP_SIZE_VALID=valid_generator.n//valid_generator.batch_size\r\n",
        "\r\n",
        "regressor = full_model.fit_generator(generator=train_generator,\r\n",
        "                                     steps_per_epoch=STEP_SIZE_TRAIN,\r\n",
        "                                     validation_data=valid_generator,\r\n",
        "                                     validation_steps=STEP_SIZE_VALID,\r\n",
        "                                     epochs=100)\r\n",
        "\r\n",
        "## plot training process\r\n",
        "loss = regressor.history['loss']\r\n",
        "val_loss = regressor.history['val_loss']\r\n",
        "epochs = range(len(loss))\r\n",
        "plt.figure()\r\n",
        "plt.plot(epochs, loss, 'b', label='Training loss')\r\n",
        "plt.plot(epochs, val_loss, 'r', label='Validation loss')\r\n",
        "plt.title('Training and validation loss')\r\n",
        "plt.legend()"
      ],
      "execution_count": 17,
      "outputs": [
        {
          "output_type": "stream",
          "text": [
            "/usr/local/lib/python3.6/dist-packages/tensorflow/python/keras/engine/training.py:1844: UserWarning: `Model.fit_generator` is deprecated and will be removed in a future version. Please use `Model.fit`, which supports generators.\n",
            "  warnings.warn('`Model.fit_generator` is deprecated and '\n"
          ],
          "name": "stderr"
        },
        {
          "output_type": "stream",
          "text": [
            "Epoch 1/100\n",
            "16/16 [==============================] - 4s 199ms/step - loss: 5.5623 - mean_squared_error: 5.5623 - val_loss: 1.5425 - val_mean_squared_error: 1.5425\n",
            "Epoch 2/100\n",
            "16/16 [==============================] - 3s 177ms/step - loss: 1.0256 - mean_squared_error: 1.0256 - val_loss: 1.8638 - val_mean_squared_error: 1.8638\n",
            "Epoch 3/100\n",
            "16/16 [==============================] - 3s 174ms/step - loss: 0.8805 - mean_squared_error: 0.8805 - val_loss: 1.3216 - val_mean_squared_error: 1.3216\n",
            "Epoch 4/100\n",
            "16/16 [==============================] - 3s 178ms/step - loss: 0.7649 - mean_squared_error: 0.7649 - val_loss: 1.3336 - val_mean_squared_error: 1.3336\n",
            "Epoch 5/100\n",
            "16/16 [==============================] - 3s 176ms/step - loss: 0.5520 - mean_squared_error: 0.5520 - val_loss: 0.8683 - val_mean_squared_error: 0.8683\n",
            "Epoch 6/100\n",
            "16/16 [==============================] - 3s 174ms/step - loss: 0.5006 - mean_squared_error: 0.5006 - val_loss: 1.0460 - val_mean_squared_error: 1.0460\n",
            "Epoch 7/100\n",
            "16/16 [==============================] - 3s 175ms/step - loss: 0.2689 - mean_squared_error: 0.2689 - val_loss: 0.6945 - val_mean_squared_error: 0.6945\n",
            "Epoch 8/100\n",
            "16/16 [==============================] - 3s 175ms/step - loss: 0.1637 - mean_squared_error: 0.1637 - val_loss: 0.7164 - val_mean_squared_error: 0.7164\n",
            "Epoch 9/100\n",
            "16/16 [==============================] - 3s 177ms/step - loss: 0.1099 - mean_squared_error: 0.1099 - val_loss: 0.6251 - val_mean_squared_error: 0.6251\n",
            "Epoch 10/100\n",
            "16/16 [==============================] - 3s 174ms/step - loss: 0.0810 - mean_squared_error: 0.0810 - val_loss: 0.5967 - val_mean_squared_error: 0.5967\n",
            "Epoch 11/100\n",
            "16/16 [==============================] - 3s 176ms/step - loss: 0.0689 - mean_squared_error: 0.0689 - val_loss: 0.5395 - val_mean_squared_error: 0.5395\n",
            "Epoch 12/100\n",
            "16/16 [==============================] - 3s 175ms/step - loss: 0.0552 - mean_squared_error: 0.0552 - val_loss: 0.5409 - val_mean_squared_error: 0.5409\n",
            "Epoch 13/100\n",
            "16/16 [==============================] - 3s 176ms/step - loss: 0.0724 - mean_squared_error: 0.0724 - val_loss: 0.5650 - val_mean_squared_error: 0.5650\n",
            "Epoch 14/100\n",
            "16/16 [==============================] - 3s 178ms/step - loss: 0.0834 - mean_squared_error: 0.0834 - val_loss: 0.5519 - val_mean_squared_error: 0.5519\n",
            "Epoch 15/100\n",
            "16/16 [==============================] - 3s 178ms/step - loss: 0.0362 - mean_squared_error: 0.0362 - val_loss: 0.5670 - val_mean_squared_error: 0.5670\n",
            "Epoch 16/100\n",
            "16/16 [==============================] - 3s 177ms/step - loss: 0.0218 - mean_squared_error: 0.0218 - val_loss: 0.5387 - val_mean_squared_error: 0.5387\n",
            "Epoch 17/100\n",
            "16/16 [==============================] - 3s 182ms/step - loss: 0.0203 - mean_squared_error: 0.0203 - val_loss: 0.5672 - val_mean_squared_error: 0.5672\n",
            "Epoch 18/100\n",
            "16/16 [==============================] - 3s 176ms/step - loss: 0.0223 - mean_squared_error: 0.0223 - val_loss: 0.5382 - val_mean_squared_error: 0.5382\n",
            "Epoch 19/100\n",
            "16/16 [==============================] - 3s 171ms/step - loss: 0.0206 - mean_squared_error: 0.0206 - val_loss: 0.6036 - val_mean_squared_error: 0.6036\n",
            "Epoch 20/100\n",
            "16/16 [==============================] - 3s 174ms/step - loss: 0.0124 - mean_squared_error: 0.0124 - val_loss: 0.6078 - val_mean_squared_error: 0.6078\n",
            "Epoch 21/100\n",
            "16/16 [==============================] - 3s 176ms/step - loss: 0.0143 - mean_squared_error: 0.0143 - val_loss: 0.5669 - val_mean_squared_error: 0.5669\n",
            "Epoch 22/100\n",
            "16/16 [==============================] - 3s 174ms/step - loss: 0.0077 - mean_squared_error: 0.0077 - val_loss: 0.6006 - val_mean_squared_error: 0.6006\n",
            "Epoch 23/100\n",
            "16/16 [==============================] - 3s 179ms/step - loss: 0.0072 - mean_squared_error: 0.0072 - val_loss: 0.5144 - val_mean_squared_error: 0.5144\n",
            "Epoch 24/100\n",
            "16/16 [==============================] - 3s 176ms/step - loss: 0.0107 - mean_squared_error: 0.0107 - val_loss: 0.6114 - val_mean_squared_error: 0.6114\n",
            "Epoch 25/100\n",
            "16/16 [==============================] - 3s 175ms/step - loss: 0.0048 - mean_squared_error: 0.0048 - val_loss: 0.5463 - val_mean_squared_error: 0.5463\n",
            "Epoch 26/100\n",
            "16/16 [==============================] - 3s 175ms/step - loss: 0.0092 - mean_squared_error: 0.0092 - val_loss: 0.5664 - val_mean_squared_error: 0.5664\n",
            "Epoch 27/100\n",
            "16/16 [==============================] - 3s 175ms/step - loss: 0.0052 - mean_squared_error: 0.0052 - val_loss: 0.5993 - val_mean_squared_error: 0.5993\n",
            "Epoch 28/100\n",
            "16/16 [==============================] - 3s 179ms/step - loss: 0.0072 - mean_squared_error: 0.0072 - val_loss: 0.5788 - val_mean_squared_error: 0.5788\n",
            "Epoch 29/100\n",
            "16/16 [==============================] - 3s 174ms/step - loss: 0.0048 - mean_squared_error: 0.0048 - val_loss: 0.5831 - val_mean_squared_error: 0.5831\n",
            "Epoch 30/100\n",
            "16/16 [==============================] - 3s 177ms/step - loss: 0.0032 - mean_squared_error: 0.0032 - val_loss: 0.6102 - val_mean_squared_error: 0.6102\n",
            "Epoch 31/100\n",
            "16/16 [==============================] - 3s 173ms/step - loss: 0.0031 - mean_squared_error: 0.0031 - val_loss: 0.5644 - val_mean_squared_error: 0.5644\n",
            "Epoch 32/100\n",
            "16/16 [==============================] - 3s 178ms/step - loss: 0.0023 - mean_squared_error: 0.0023 - val_loss: 0.5791 - val_mean_squared_error: 0.5791\n",
            "Epoch 33/100\n",
            "16/16 [==============================] - 3s 177ms/step - loss: 0.0023 - mean_squared_error: 0.0023 - val_loss: 0.5820 - val_mean_squared_error: 0.5820\n",
            "Epoch 34/100\n",
            "16/16 [==============================] - 3s 177ms/step - loss: 0.0016 - mean_squared_error: 0.0016 - val_loss: 0.5811 - val_mean_squared_error: 0.5811\n",
            "Epoch 35/100\n",
            "16/16 [==============================] - 3s 177ms/step - loss: 9.0517e-04 - mean_squared_error: 9.0517e-04 - val_loss: 0.5407 - val_mean_squared_error: 0.5407\n",
            "Epoch 36/100\n",
            "16/16 [==============================] - 3s 175ms/step - loss: 7.3977e-04 - mean_squared_error: 7.3977e-04 - val_loss: 0.5750 - val_mean_squared_error: 0.5750\n",
            "Epoch 37/100\n",
            "16/16 [==============================] - 3s 179ms/step - loss: 5.8363e-04 - mean_squared_error: 5.8363e-04 - val_loss: 0.5613 - val_mean_squared_error: 0.5613\n",
            "Epoch 38/100\n",
            "16/16 [==============================] - 3s 177ms/step - loss: 0.0016 - mean_squared_error: 0.0016 - val_loss: 0.5814 - val_mean_squared_error: 0.5814\n",
            "Epoch 39/100\n",
            "16/16 [==============================] - 3s 177ms/step - loss: 5.6999e-04 - mean_squared_error: 5.6999e-04 - val_loss: 0.5567 - val_mean_squared_error: 0.5567\n",
            "Epoch 40/100\n",
            "16/16 [==============================] - 3s 176ms/step - loss: 3.5304e-04 - mean_squared_error: 3.5304e-04 - val_loss: 0.5790 - val_mean_squared_error: 0.5790\n",
            "Epoch 41/100\n",
            "16/16 [==============================] - 3s 177ms/step - loss: 3.0591e-04 - mean_squared_error: 3.0591e-04 - val_loss: 0.5632 - val_mean_squared_error: 0.5632\n",
            "Epoch 42/100\n",
            "16/16 [==============================] - 3s 175ms/step - loss: 6.4980e-04 - mean_squared_error: 6.4980e-04 - val_loss: 0.5605 - val_mean_squared_error: 0.5605\n",
            "Epoch 43/100\n",
            "16/16 [==============================] - 3s 177ms/step - loss: 6.0264e-04 - mean_squared_error: 6.0264e-04 - val_loss: 0.5654 - val_mean_squared_error: 0.5654\n",
            "Epoch 44/100\n",
            "16/16 [==============================] - 3s 177ms/step - loss: 6.6042e-04 - mean_squared_error: 6.6042e-04 - val_loss: 0.5689 - val_mean_squared_error: 0.5689\n",
            "Epoch 45/100\n",
            "16/16 [==============================] - 3s 175ms/step - loss: 4.0789e-04 - mean_squared_error: 4.0789e-04 - val_loss: 0.5791 - val_mean_squared_error: 0.5791\n",
            "Epoch 46/100\n",
            "16/16 [==============================] - 3s 174ms/step - loss: 4.7685e-04 - mean_squared_error: 4.7685e-04 - val_loss: 0.5994 - val_mean_squared_error: 0.5994\n",
            "Epoch 47/100\n",
            "16/16 [==============================] - 3s 177ms/step - loss: 0.0018 - mean_squared_error: 0.0018 - val_loss: 0.5294 - val_mean_squared_error: 0.5294\n",
            "Epoch 48/100\n",
            "16/16 [==============================] - 3s 177ms/step - loss: 0.0046 - mean_squared_error: 0.0046 - val_loss: 0.5822 - val_mean_squared_error: 0.5822\n",
            "Epoch 49/100\n",
            "16/16 [==============================] - 3s 178ms/step - loss: 0.0020 - mean_squared_error: 0.0020 - val_loss: 0.5891 - val_mean_squared_error: 0.5891\n",
            "Epoch 50/100\n",
            "16/16 [==============================] - 3s 178ms/step - loss: 0.0061 - mean_squared_error: 0.0061 - val_loss: 0.5570 - val_mean_squared_error: 0.5570\n",
            "Epoch 51/100\n",
            "16/16 [==============================] - 3s 186ms/step - loss: 0.0031 - mean_squared_error: 0.0031 - val_loss: 0.5669 - val_mean_squared_error: 0.5669\n",
            "Epoch 52/100\n",
            "16/16 [==============================] - 3s 177ms/step - loss: 0.0027 - mean_squared_error: 0.0027 - val_loss: 0.5641 - val_mean_squared_error: 0.5641\n",
            "Epoch 53/100\n",
            "16/16 [==============================] - 3s 177ms/step - loss: 0.0063 - mean_squared_error: 0.0063 - val_loss: 0.5700 - val_mean_squared_error: 0.5700\n",
            "Epoch 54/100\n",
            "16/16 [==============================] - 3s 183ms/step - loss: 0.0048 - mean_squared_error: 0.0048 - val_loss: 0.6466 - val_mean_squared_error: 0.6466\n",
            "Epoch 55/100\n",
            "16/16 [==============================] - 3s 189ms/step - loss: 0.0124 - mean_squared_error: 0.0124 - val_loss: 0.6314 - val_mean_squared_error: 0.6314\n",
            "Epoch 56/100\n",
            "16/16 [==============================] - 3s 190ms/step - loss: 0.0098 - mean_squared_error: 0.0098 - val_loss: 0.5762 - val_mean_squared_error: 0.5762\n",
            "Epoch 57/100\n",
            "16/16 [==============================] - 3s 189ms/step - loss: 0.0024 - mean_squared_error: 0.0024 - val_loss: 0.6033 - val_mean_squared_error: 0.6033\n",
            "Epoch 58/100\n",
            "16/16 [==============================] - 3s 184ms/step - loss: 0.0064 - mean_squared_error: 0.0064 - val_loss: 0.5495 - val_mean_squared_error: 0.5495\n",
            "Epoch 59/100\n",
            "16/16 [==============================] - 3s 183ms/step - loss: 0.0103 - mean_squared_error: 0.0103 - val_loss: 0.5833 - val_mean_squared_error: 0.5833\n",
            "Epoch 60/100\n",
            "16/16 [==============================] - 3s 179ms/step - loss: 0.0035 - mean_squared_error: 0.0035 - val_loss: 0.5672 - val_mean_squared_error: 0.5672\n",
            "Epoch 61/100\n",
            "16/16 [==============================] - 3s 176ms/step - loss: 0.0029 - mean_squared_error: 0.0029 - val_loss: 0.5733 - val_mean_squared_error: 0.5733\n",
            "Epoch 62/100\n",
            "16/16 [==============================] - 3s 179ms/step - loss: 0.0021 - mean_squared_error: 0.0021 - val_loss: 0.5479 - val_mean_squared_error: 0.5479\n",
            "Epoch 63/100\n",
            "16/16 [==============================] - 3s 178ms/step - loss: 0.0068 - mean_squared_error: 0.0068 - val_loss: 0.6208 - val_mean_squared_error: 0.6208\n",
            "Epoch 64/100\n",
            "16/16 [==============================] - 3s 179ms/step - loss: 0.0046 - mean_squared_error: 0.0046 - val_loss: 0.5573 - val_mean_squared_error: 0.5573\n",
            "Epoch 65/100\n",
            "16/16 [==============================] - 3s 180ms/step - loss: 0.0067 - mean_squared_error: 0.0067 - val_loss: 0.5581 - val_mean_squared_error: 0.5581\n",
            "Epoch 66/100\n",
            "16/16 [==============================] - 3s 177ms/step - loss: 0.0036 - mean_squared_error: 0.0036 - val_loss: 0.5517 - val_mean_squared_error: 0.5517\n",
            "Epoch 67/100\n",
            "16/16 [==============================] - 3s 176ms/step - loss: 0.0145 - mean_squared_error: 0.0145 - val_loss: 0.5783 - val_mean_squared_error: 0.5783\n",
            "Epoch 68/100\n",
            "16/16 [==============================] - 3s 178ms/step - loss: 0.0157 - mean_squared_error: 0.0157 - val_loss: 0.5427 - val_mean_squared_error: 0.5427\n",
            "Epoch 69/100\n",
            "16/16 [==============================] - 3s 178ms/step - loss: 0.0181 - mean_squared_error: 0.0181 - val_loss: 0.5525 - val_mean_squared_error: 0.5525\n",
            "Epoch 70/100\n",
            "16/16 [==============================] - 3s 177ms/step - loss: 0.0135 - mean_squared_error: 0.0135 - val_loss: 0.5743 - val_mean_squared_error: 0.5743\n",
            "Epoch 71/100\n",
            "16/16 [==============================] - 3s 180ms/step - loss: 0.0059 - mean_squared_error: 0.0059 - val_loss: 0.5556 - val_mean_squared_error: 0.5556\n",
            "Epoch 72/100\n",
            "16/16 [==============================] - 3s 179ms/step - loss: 0.0052 - mean_squared_error: 0.0052 - val_loss: 0.5849 - val_mean_squared_error: 0.5849\n",
            "Epoch 73/100\n",
            "16/16 [==============================] - 3s 178ms/step - loss: 0.0026 - mean_squared_error: 0.0026 - val_loss: 0.5800 - val_mean_squared_error: 0.5800\n",
            "Epoch 74/100\n",
            "16/16 [==============================] - 3s 176ms/step - loss: 0.0014 - mean_squared_error: 0.0014 - val_loss: 0.5817 - val_mean_squared_error: 0.5817\n",
            "Epoch 75/100\n",
            "16/16 [==============================] - 3s 179ms/step - loss: 0.0019 - mean_squared_error: 0.0019 - val_loss: 0.5974 - val_mean_squared_error: 0.5974\n",
            "Epoch 76/100\n",
            "16/16 [==============================] - 3s 178ms/step - loss: 0.0029 - mean_squared_error: 0.0029 - val_loss: 0.5568 - val_mean_squared_error: 0.5568\n",
            "Epoch 77/100\n",
            "16/16 [==============================] - 3s 178ms/step - loss: 0.0042 - mean_squared_error: 0.0042 - val_loss: 0.5762 - val_mean_squared_error: 0.5762\n",
            "Epoch 78/100\n",
            "16/16 [==============================] - 3s 181ms/step - loss: 9.0244e-04 - mean_squared_error: 9.0244e-04 - val_loss: 0.5866 - val_mean_squared_error: 0.5866\n",
            "Epoch 79/100\n",
            "16/16 [==============================] - 3s 186ms/step - loss: 0.0013 - mean_squared_error: 0.0013 - val_loss: 0.6039 - val_mean_squared_error: 0.6039\n",
            "Epoch 80/100\n",
            "16/16 [==============================] - 3s 178ms/step - loss: 0.0086 - mean_squared_error: 0.0086 - val_loss: 0.5957 - val_mean_squared_error: 0.5957\n",
            "Epoch 81/100\n",
            "16/16 [==============================] - 3s 177ms/step - loss: 0.0078 - mean_squared_error: 0.0078 - val_loss: 0.6557 - val_mean_squared_error: 0.6557\n",
            "Epoch 82/100\n",
            "16/16 [==============================] - 3s 179ms/step - loss: 0.0120 - mean_squared_error: 0.0120 - val_loss: 0.6160 - val_mean_squared_error: 0.6160\n",
            "Epoch 83/100\n",
            "16/16 [==============================] - 3s 176ms/step - loss: 0.0101 - mean_squared_error: 0.0101 - val_loss: 0.5895 - val_mean_squared_error: 0.5895\n",
            "Epoch 84/100\n",
            "16/16 [==============================] - 3s 176ms/step - loss: 0.0147 - mean_squared_error: 0.0147 - val_loss: 0.5500 - val_mean_squared_error: 0.5500\n",
            "Epoch 85/100\n",
            "16/16 [==============================] - 3s 175ms/step - loss: 0.0287 - mean_squared_error: 0.0287 - val_loss: 0.8225 - val_mean_squared_error: 0.8225\n",
            "Epoch 86/100\n",
            "16/16 [==============================] - 3s 176ms/step - loss: 0.0474 - mean_squared_error: 0.0474 - val_loss: 0.8801 - val_mean_squared_error: 0.8801\n",
            "Epoch 87/100\n",
            "16/16 [==============================] - 3s 178ms/step - loss: 0.0451 - mean_squared_error: 0.0451 - val_loss: 0.5698 - val_mean_squared_error: 0.5698\n",
            "Epoch 88/100\n",
            "16/16 [==============================] - 3s 180ms/step - loss: 0.0514 - mean_squared_error: 0.0514 - val_loss: 0.5763 - val_mean_squared_error: 0.5763\n",
            "Epoch 89/100\n",
            "16/16 [==============================] - 3s 179ms/step - loss: 0.0096 - mean_squared_error: 0.0096 - val_loss: 0.6225 - val_mean_squared_error: 0.6225\n",
            "Epoch 90/100\n",
            "16/16 [==============================] - 3s 180ms/step - loss: 0.0071 - mean_squared_error: 0.0071 - val_loss: 0.5859 - val_mean_squared_error: 0.5859\n",
            "Epoch 91/100\n",
            "16/16 [==============================] - 3s 175ms/step - loss: 0.0033 - mean_squared_error: 0.0033 - val_loss: 0.5892 - val_mean_squared_error: 0.5892\n",
            "Epoch 92/100\n",
            "16/16 [==============================] - 3s 175ms/step - loss: 0.0029 - mean_squared_error: 0.0029 - val_loss: 0.6408 - val_mean_squared_error: 0.6408\n",
            "Epoch 93/100\n",
            "16/16 [==============================] - 3s 175ms/step - loss: 0.0041 - mean_squared_error: 0.0041 - val_loss: 0.5923 - val_mean_squared_error: 0.5923\n",
            "Epoch 94/100\n",
            "16/16 [==============================] - 3s 174ms/step - loss: 0.0011 - mean_squared_error: 0.0011 - val_loss: 0.5546 - val_mean_squared_error: 0.5546\n",
            "Epoch 95/100\n",
            "16/16 [==============================] - 3s 172ms/step - loss: 0.0015 - mean_squared_error: 0.0015 - val_loss: 0.5994 - val_mean_squared_error: 0.5994\n",
            "Epoch 96/100\n",
            "16/16 [==============================] - 3s 177ms/step - loss: 0.0015 - mean_squared_error: 0.0015 - val_loss: 0.5847 - val_mean_squared_error: 0.5847\n",
            "Epoch 97/100\n",
            "16/16 [==============================] - 3s 174ms/step - loss: 0.0018 - mean_squared_error: 0.0018 - val_loss: 0.6006 - val_mean_squared_error: 0.6006\n",
            "Epoch 98/100\n",
            "16/16 [==============================] - 3s 174ms/step - loss: 0.0014 - mean_squared_error: 0.0014 - val_loss: 0.5679 - val_mean_squared_error: 0.5679\n",
            "Epoch 99/100\n",
            "16/16 [==============================] - 3s 180ms/step - loss: 0.0026 - mean_squared_error: 0.0026 - val_loss: 0.6036 - val_mean_squared_error: 0.6036\n",
            "Epoch 100/100\n",
            "16/16 [==============================] - 3s 175ms/step - loss: 6.4197e-04 - mean_squared_error: 6.4197e-04 - val_loss: 0.5460 - val_mean_squared_error: 0.5460\n"
          ],
          "name": "stdout"
        },
        {
          "output_type": "execute_result",
          "data": {
            "text/plain": [
              "<matplotlib.legend.Legend at 0x7f41fc7ce438>"
            ]
          },
          "metadata": {
            "tags": []
          },
          "execution_count": 17
        },
        {
          "output_type": "display_data",
          "data": {
            "image/png": "[encoded data removed]",
            "text/plain": [
              "<Figure size 432x288 with 1 Axes>"
            ]
          },
          "metadata": {
            "tags": [],
            "needs_background": "light"
          }
        }
      ]
    },
    {
      "cell_type": "code",
      "metadata": {
        "colab": {
          "base_uri": "https://localhost:8080/",
          "height": 369
        },
        "id": "aT7hYsgnj6ae",
        "outputId": "503efbe7-1818-47c3-d839-4ee3c968b6c8"
      },
      "source": [
        "#### PREDICTION\r\n",
        "STEP_SIZE_TEST=test_generator.n//test_generator.batch_size\r\n",
        "test_generator.reset()\r\n",
        "\r\n",
        "predict=full_model.predict_generator(test_generator,steps=STEP_SIZE_TEST,verbose=1)\r\n",
        "\r\n",
        "# plot results\r\n",
        "pred = predict[:,0]\r\n",
        "true = testing_y\r\n",
        "plt.plot(pred,true, 'g^')\r\n",
        "\r\n",
        "# r2 and rmse \r\n",
        "slope, intercept, r_value, p_value, std_err = stats.linregress(true, pred) #x,y\r\n",
        "mse = mean_squared_error(true, pred)\r\n",
        "rmse = math.sqrt(mse)\r\n",
        "print(\"R2: %f\" % r_value**2)\r\n",
        "print(\"RMSE: %f\" % rmse)\r\n",
        "\r\n",
        "# ## save\r\n",
        "# df = DataFrame([true,pred])\r\n",
        "# df = df.T #transpose\r\n",
        "# df.to_excel('PATH TO EXPECTED DIRECTORY.xlsx', index=False)"
      ],
      "execution_count": 18,
      "outputs": [
        {
          "output_type": "stream",
          "text": [
            " 12/164 [=>............................] - ETA: 0s "
          ],
          "name": "stdout"
        },
        {
          "output_type": "stream",
          "text": [
            "/usr/local/lib/python3.6/dist-packages/tensorflow/python/keras/engine/training.py:1905: UserWarning: `Model.predict_generator` is deprecated and will be removed in a future version. Please use `Model.predict`, which supports generators.\n",
            "  warnings.warn('`Model.predict_generator` is deprecated and '\n"
          ],
          "name": "stderr"
        },
        {
          "output_type": "stream",
          "text": [
            "164/164 [==============================] - 1s 5ms/step\n",
            "R2: 0.655629\n",
            "RMSE: 1.444152\n"
          ],
          "name": "stdout"
        },
        {
          "output_type": "display_data",
          "data": {
            "image/png": "[encoded data removed]",
            "text/plain": [
              "<Figure size 432x288 with 1 Axes>"
            ]
          },
          "metadata": {
            "tags": [],
            "needs_background": "light"
          }
        }
      ]
    }
  ]
}